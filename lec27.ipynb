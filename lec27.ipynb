{
 "cells": [
  {
   "cell_type": "code",
   "execution_count": 34,
   "id": "05905655-5879-4979-8156-c09fb643f0a4",
   "metadata": {},
   "outputs": [],
   "source": [
    "import numpy as np\n",
    "import pandas as pd\n",
    "import matplotlib.pyplot as plt"
   ]
  },
  {
   "cell_type": "code",
   "execution_count": 35,
   "id": "15a10318-5d1c-40e5-8505-3d5aab318586",
   "metadata": {},
   "outputs": [],
   "source": [
    "# Linear Regression-> Prediction of the continuous values that is nearly dependent on the input. Graph is always straight-line type."
   ]
  },
  {
   "cell_type": "code",
   "execution_count": 74,
   "id": "086e853c-1117-42e8-9fcb-b7694025ddb7",
   "metadata": {},
   "outputs": [],
   "source": [
    "X = np.random.randint(-7, 500, 200)\n",
    "u = np.mean(X, axis = 0)\n",
    "std = np.std(X, axis = 0)\n",
    "\n",
    "X = (X-u)/std"
   ]
  },
  {
   "cell_type": "code",
   "execution_count": 75,
   "id": "145efea2-9b37-4ddd-8ce8-4e3392a9b769",
   "metadata": {},
   "outputs": [
    {
     "data": {
      "text/plain": [
       "array([-1.26562089, -0.38367805, -0.96944606, -0.81148614, -0.42316803,\n",
       "        1.29464603, -1.27220256, -0.27178978, -1.12082431,  1.07086948,\n",
       "       -0.04801323,  1.55791255,  0.34688655,  1.63031084,  0.33372322,\n",
       "        0.88658292, -1.068171  , -0.91679275, -0.88388444, -0.96944606,\n",
       "        1.05770616, -1.46965245, -0.31786142, -1.48281577, -1.04184435,\n",
       "       -1.63419402,  0.76811298,  0.95239955, -0.19280982,  1.27490104,\n",
       "        1.68296415, -1.00235437,  1.47893259,  1.4591876 , -1.40383582,\n",
       "        0.95239955,  0.64306139,  1.39337097,  1.12352279, -1.26562089,\n",
       "       -1.1405693 , -1.27220256, -0.17964649, -0.82464947,  0.6233164 ,\n",
       "       -1.12740597, -0.21913647, -0.96286439, -0.61403625,  0.12969167,\n",
       "        1.03796117, -1.04184435, -1.63419402,  0.39953985,  1.11694113,\n",
       "        1.38020765,  1.41969763, -1.53546908,  0.76811298, -1.46307079,\n",
       "        1.68296415,  0.30081491, -1.26562089, -0.59429126,  0.26790659,\n",
       "        1.4065343 ,  0.91290957,  0.91290957,  0.04413005,  0.63647972,\n",
       "       -1.56179573,  0.84051128,  1.29464603,  0.62989806, -1.13398763,\n",
       "        1.24857439,  1.52500423,  0.89974625,  1.46576927,  1.51842257,\n",
       "       -0.07433988, -0.94970107,  1.20250275, -0.38367805, -0.8904661 ,\n",
       "       -0.52189297,  1.24857439, -0.77857783, -0.04801323, -1.21954925,\n",
       "       -0.68643455,  1.26173771, -1.37750917,  0.65622471, -0.27837144,\n",
       "       -1.52230575,  1.00505285,  1.06428782,  1.49209592, -1.58154072,\n",
       "        0.53775478, -1.08791599, -0.14015651, -0.99577271, -1.39067249,\n",
       "        0.10336502, -1.02209936,  0.98530787, -0.33760641,  0.57724476,\n",
       "       -1.26562089, -1.44990746,  0.23499828, -0.98919105, -0.36393306,\n",
       "       -1.06158934, -0.85097612,  0.90632791,  0.78127631, -0.71934286,\n",
       "        1.6566375 , -0.66668956,  1.49867758,  0.45877482, -1.1405693 ,\n",
       "       -0.64036291, -0.87730277, -1.19980426, -1.30511087, -0.17964649,\n",
       "        1.39995264, -0.5877096 ,  0.28106992, -0.26520811, -0.37709638,\n",
       "       -0.77199617,  0.65622471,  1.1564311 , -0.58112794,  0.65622471,\n",
       "        0.04413005,  0.29423325,  1.59082086,  0.20867163,  1.68296415,\n",
       "       -1.30511087,  0.57724476,  0.72862301, -0.60745459,  0.58382642,\n",
       "       -0.57454628, -1.10766098,  0.53117312,  0.35346821, -1.55521407,\n",
       "        0.23499828,  0.93923622,  0.08362003,  0.53775478, -0.98919105,\n",
       "        0.69571469,  0.22183495,  1.27490104, -0.98260938, -0.33760641,\n",
       "        1.11694113, -1.31169254, -1.12740597,  0.15601832,  1.36704432,\n",
       "       -0.47582133,  0.58382642, -0.10066654,  1.30780935,  0.10994668,\n",
       "       -0.74566951,  0.70229635, -0.97602772, -0.94311941,  0.89974625,\n",
       "        1.50525925, -0.61403625, -1.36434584,  0.89316458, -1.11424264,\n",
       "       -0.39025971,  1.03796117, -1.58154072,  0.54433644,  0.80760296,\n",
       "       -0.50214798,  1.36704432,  0.35346821, -1.08133433, -0.21255481,\n",
       "        1.05770616, -0.44949468,  1.2814827 , -1.39067249,  1.34071767])"
      ]
     },
     "execution_count": 75,
     "metadata": {},
     "output_type": "execute_result"
    }
   ],
   "source": [
    "X"
   ]
  },
  {
   "cell_type": "code",
   "execution_count": 76,
   "id": "66a1c0f5-2b69-4704-93ee-fb88519ed6b7",
   "metadata": {},
   "outputs": [
    {
     "data": {
      "text/plain": [
       "numpy.ndarray"
      ]
     },
     "execution_count": 76,
     "metadata": {},
     "output_type": "execute_result"
    }
   ],
   "source": [
    "type(X)"
   ]
  },
  {
   "cell_type": "code",
   "execution_count": 77,
   "id": "3400a5f2-0200-492e-acaa-587b293127b6",
   "metadata": {},
   "outputs": [],
   "source": [
    "# x is numpy array, so we can perform mathematical operations in it"
   ]
  },
  {
   "cell_type": "code",
   "execution_count": 78,
   "id": "89f26f31-2e03-4d54-8019-226c2293079e",
   "metadata": {},
   "outputs": [],
   "source": [
    "Y = []\n",
    "\n",
    "for i in X:\n",
    "    Y.append(7.18*i + 6.022)"
   ]
  },
  {
   "cell_type": "code",
   "execution_count": 79,
   "id": "01e0b586-935e-451b-85a3-d3d52c6acd63",
   "metadata": {},
   "outputs": [
    {
     "data": {
      "text/plain": [
       "[np.float64(-3.0651580197572645),\n",
       " np.float64(3.267191623486052),\n",
       " np.float64(-0.9386226918024194),\n",
       " np.float64(0.1955294831068315),\n",
       " np.float64(2.983653579758739),\n",
       " np.float64(15.31755848189684),\n",
       " np.float64(-3.1124143603784837),\n",
       " np.float64(4.070549414046771),\n",
       " np.float64(-2.025518526090451),\n",
       " np.float64(13.710842900775402),\n",
       " np.float64(5.67726499516821),\n",
       " np.float64(17.207812106745592),\n",
       " np.float64(8.512645432441337),\n",
       " np.float64(17.727631853579),\n",
       " np.float64(8.418132751198899),\n",
       " np.float64(12.387665363381277),\n",
       " np.float64(-1.6474678011207002),\n",
       " np.float64(-0.5605719668326694),\n",
       " np.float64(-0.3242902637265752),\n",
       " np.float64(-0.9386226918024194),\n",
       " np.float64(13.616330219532966),\n",
       " np.float64(-4.530104579015045),\n",
       " np.float64(3.73975502969824),\n",
       " np.float64(-4.624617260257484),\n",
       " np.float64(-1.4584424386358252),\n",
       " np.float64(-5.711513094545516),\n",
       " np.float64(11.537051232199339),\n",
       " np.float64(12.860228769593466),\n",
       " np.float64(4.637625501501397),\n",
       " np.float64(15.175789460033185),\n",
       " np.float64(18.105682578548752),\n",
       " np.float64(-1.1749043949085127),\n",
       " np.float64(16.64073601929097),\n",
       " np.float64(16.49896699742731),\n",
       " np.float64(-4.057541172802859),\n",
       " np.float64(12.860228769593466),\n",
       " np.float64(10.639180760396183),\n",
       " np.float64(16.02640359121512),\n",
       " np.float64(14.088893625745152),\n",
       " np.float64(-3.0651580197572645),\n",
       " np.float64(-2.1672875479541087),\n",
       " np.float64(-3.1124143603784837),\n",
       " np.float64(4.732138182743834),\n",
       " np.float64(0.10101680186439399),\n",
       " np.float64(10.497411738532525),\n",
       " np.float64(-2.0727748667116703),\n",
       " np.float64(4.448600139016522),\n",
       " np.float64(-0.8913663511812011),\n",
       " np.float64(1.613219701743394),\n",
       " np.float64(6.953186191941117),\n",
       " np.float64(13.474561197669308),\n",
       " np.float64(-1.4584424386358252),\n",
       " np.float64(-5.711513094545516),\n",
       " np.float64(8.890696157411087),\n",
       " np.float64(14.041637285123933),\n",
       " np.float64(15.931890909972685),\n",
       " np.float64(16.2154289537),\n",
       " np.float64(-5.002667985227234),\n",
       " np.float64(11.537051232199339),\n",
       " np.float64(-4.482848238393828),\n",
       " np.float64(18.105682578548752),\n",
       " np.float64(8.181851048092806),\n",
       " np.float64(-3.0651580197572645),\n",
       " np.float64(1.7549887236070507),\n",
       " np.float64(7.945569344986711),\n",
       " np.float64(16.12091627245756),\n",
       " np.float64(12.57669072586615),\n",
       " np.float64(12.57669072586615),\n",
       " np.float64(6.338853763865273),\n",
       " np.float64(10.591924419774962),\n",
       " np.float64(-5.191693347712109),\n",
       " np.float64(12.056870979032745),\n",
       " np.float64(15.31755848189684),\n",
       " np.float64(10.544668079153745),\n",
       " np.float64(-2.1200312073328877),\n",
       " np.float64(14.98676409754831),\n",
       " np.float64(16.9715304036395),\n",
       " np.float64(12.482178044623714),\n",
       " np.float64(16.54622333804853),\n",
       " np.float64(16.92427406301828),\n",
       " np.float64(5.488239632683335),\n",
       " np.float64(-0.7968536699387636),\n",
       " np.float64(14.655969713199779),\n",
       " np.float64(3.267191623486052),\n",
       " np.float64(-0.3715466043477944),\n",
       " np.float64(2.2748084704404574),\n",
       " np.float64(14.98676409754831),\n",
       " np.float64(0.4318111862129257),\n",
       " np.float64(5.67726499516821),\n",
       " np.float64(-2.7343636354087337),\n",
       " np.float64(1.0933999549099882),\n",
       " np.float64(15.081276778790746),\n",
       " np.float64(-3.8685158103179837),\n",
       " np.float64(10.73369344163862),\n",
       " np.float64(4.0232930734255525),\n",
       " np.float64(-4.908155303984797),\n",
       " np.float64(13.238279494563216),\n",
       " np.float64(13.663586560154183),\n",
       " np.float64(16.735248700533404),\n",
       " np.float64(-5.333462369575766),\n",
       " np.float64(9.883079310456681),\n",
       " np.float64(-1.7892368229843578),\n",
       " np.float64(5.015676226471147),\n",
       " np.float64(-1.1276480542872944),\n",
       " np.float64(-3.9630284915604204),\n",
       " np.float64(6.764160829456242),\n",
       " np.float64(-1.3166734167721703),\n",
       " np.float64(13.096510472699558),\n",
       " np.float64(3.5979860078345838),\n",
       " np.float64(10.166617354183995),\n",
       " np.float64(-3.0651580197572645),\n",
       " np.float64(-4.388335557151391),\n",
       " np.float64(7.709287641880618),\n",
       " np.float64(-1.0803917136660761),\n",
       " np.float64(3.4089606453497083),\n",
       " np.float64(-1.6002114604994828),\n",
       " np.float64(-0.08800856062048101),\n",
       " np.float64(12.529434385244933),\n",
       " np.float64(11.631563913441777),\n",
       " np.float64(0.8571182518038949),\n",
       " np.float64(17.916657216063875),\n",
       " np.float64(1.235168976773645),\n",
       " np.float64(16.78250504115462),\n",
       " np.float64(9.316003223002056),\n",
       " np.float64(-2.1672875479541087),\n",
       " np.float64(1.424194339258519),\n",
       " np.float64(-0.2770339231053569),\n",
       " np.float64(-2.592594613545076),\n",
       " np.float64(-3.348696063484578),\n",
       " np.float64(4.732138182743834),\n",
       " np.float64(16.073659931836342),\n",
       " np.float64(1.80224506422827),\n",
       " np.float64(8.040082026229149),\n",
       " np.float64(4.11780575466799),\n",
       " np.float64(3.314447964107271),\n",
       " np.float64(0.479067526834144),\n",
       " np.float64(10.73369344163862),\n",
       " np.float64(14.325175328851246),\n",
       " np.float64(1.8495014048494882),\n",
       " np.float64(10.73369344163862),\n",
       " np.float64(6.338853763865273),\n",
       " np.float64(8.134594707471587),\n",
       " np.float64(17.444093809851687),\n",
       " np.float64(7.520262279395743),\n",
       " np.float64(18.105682578548752),\n",
       " np.float64(-3.348696063484578),\n",
       " np.float64(10.166617354183995),\n",
       " np.float64(11.253513188472027),\n",
       " np.float64(1.6604760423646132),\n",
       " np.float64(10.213873694805212),\n",
       " np.float64(1.8967577454707074),\n",
       " np.float64(-1.9310058448480136),\n",
       " np.float64(9.835822969835462),\n",
       " np.float64(8.559901773062556),\n",
       " np.float64(-5.144437007090891),\n",
       " np.float64(7.709287641880618),\n",
       " np.float64(12.765716088351027),\n",
       " np.float64(6.622391807592585),\n",
       " np.float64(9.883079310456681),\n",
       " np.float64(-1.0803917136660761),\n",
       " np.float64(11.017231485365933),\n",
       " np.float64(7.614774960638179),\n",
       " np.float64(15.175789460033185),\n",
       " np.float64(-1.033135373044857),\n",
       " np.float64(3.5979860078345838),\n",
       " np.float64(14.041637285123933),\n",
       " np.float64(-3.395952404105797),\n",
       " np.float64(-2.0727748667116703),\n",
       " np.float64(7.142211554425992),\n",
       " np.float64(15.837378228730246),\n",
       " np.float64(2.605602854788989),\n",
       " np.float64(10.213873694805212),\n",
       " np.float64(5.299214270198459),\n",
       " np.float64(15.412071163139279),\n",
       " np.float64(6.81141717007746),\n",
       " np.float64(0.668092889319019),\n",
       " np.float64(11.06448782598715),\n",
       " np.float64(-0.9858790324236386),\n",
       " np.float64(-0.7495973293175444),\n",
       " np.float64(12.482178044623714),\n",
       " np.float64(16.82976138177584),\n",
       " np.float64(1.613219701743394),\n",
       " np.float64(-3.7740031290755454),\n",
       " np.float64(12.434921704002495),\n",
       " np.float64(-1.9782621854692337),\n",
       " np.float64(3.2199352828648333),\n",
       " np.float64(13.474561197669308),\n",
       " np.float64(-5.333462369575766),\n",
       " np.float64(9.9303356510779),\n",
       " np.float64(11.82058927592665),\n",
       " np.float64(2.4165774923041137),\n",
       " np.float64(15.837378228730246),\n",
       " np.float64(8.559901773062556),\n",
       " np.float64(-1.7419804823631386),\n",
       " np.float64(4.49585647963774),\n",
       " np.float64(13.616330219532966),\n",
       " np.float64(2.794628217273864),\n",
       " np.float64(15.223045800654404),\n",
       " np.float64(-3.9630284915604204),\n",
       " np.float64(15.648352866245371)]"
      ]
     },
     "execution_count": 79,
     "metadata": {},
     "output_type": "execute_result"
    }
   ],
   "source": [
    "# We have produce y in corresponding to x\n",
    "Y"
   ]
  },
  {
   "cell_type": "code",
   "execution_count": 80,
   "id": "463d339f-851f-4075-9879-2a17fd5d816e",
   "metadata": {},
   "outputs": [
    {
     "data": {
      "text/plain": [
       "numpy.ndarray"
      ]
     },
     "execution_count": 80,
     "metadata": {},
     "output_type": "execute_result"
    }
   ],
   "source": [
    "type(Y)\n",
    "#type-mismatch\n",
    "Y = np.array(Y)\n",
    "type(Y)"
   ]
  },
  {
   "cell_type": "code",
   "execution_count": 81,
   "id": "d0fa76a3-808e-4afc-a4ce-fee6df9381a1",
   "metadata": {},
   "outputs": [
    {
     "data": {
      "text/plain": [
       "<matplotlib.collections.PathCollection at 0x290703cf260>"
      ]
     },
     "execution_count": 81,
     "metadata": {},
     "output_type": "execute_result"
    },
    {
     "data": {
      "image/png": "[encoded data removed]",
      "text/plain": [
       "<Figure size 640x480 with 1 Axes>"
      ]
     },
     "metadata": {},
     "output_type": "display_data"
    }
   ],
   "source": [
    "plt.scatter(X,Y, marker='.')"
   ]
  },
  {
   "cell_type": "code",
   "execution_count": 82,
   "id": "5b5a8c0d-b529-48cf-a426-47b913d7cf81",
   "metadata": {},
   "outputs": [],
   "source": [
    "# y = summation to N (Wi*Xi)\n",
    "# this is hypothesis function to get value y_pred, then we willminimise the difference between y_pred and y_true\n",
    "def hypothesis(X, weight):\n",
    "    y_pred = weight[0] + weight[1]*X\n",
    "    # y = c + m*X\n",
    "    return y_pred"
   ]
  },
  {
   "cell_type": "code",
   "execution_count": 83,
   "id": "6b285ccc-412d-455f-97e1-165fc70776be",
   "metadata": {},
   "outputs": [],
   "source": [
    "# Now will find Loss as y_pred = 0 and y_true = 5 (assuming)"
   ]
  },
  {
   "cell_type": "code",
   "execution_count": 84,
   "id": "2ff5f29a-3654-429e-a4c0-5a6eefe20cfa",
   "metadata": {},
   "outputs": [],
   "source": [
    "# We will determin L2_Loss ie -> 1/2(summation upto n(y_truei-y_predi)^2)"
   ]
  },
  {
   "cell_type": "code",
   "execution_count": 85,
   "id": "ea525363-0c3e-451e-9c67-1188a1149a8b",
   "metadata": {},
   "outputs": [],
   "source": [
    "def loss_func(X, Y, weight):\n",
    "    loss = 0\n",
    "\n",
    "    for i in range(X.shape[0]): # For loop will run No of rows time.          X.shape->(200,),  X.shape[0]->200\n",
    "        Y_pred = hypothesis(X[i], weight)\n",
    "        loss += (Y_pred - Y[i]) **2\n",
    "    return loss/X.shape[0]  # or return loss/2 "
   ]
  },
  {
   "cell_type": "code",
   "execution_count": 86,
   "id": "5b0c3f60-42ac-4580-90ac-eba0b062bfd1",
   "metadata": {},
   "outputs": [],
   "source": [
    "# Now using Gradient Descent -> Wj = Wj - learningRate*(Gradient), Gradient = summationUpToN(h(x)-Yt)*Xj, h(x) is hypothesis Func"
   ]
  },
  {
   "cell_type": "code",
   "execution_count": 87,
   "id": "91ccb7e9-9c00-4f9e-998f-f7cbf4acfcab",
   "metadata": {},
   "outputs": [],
   "source": [
    "def gradient(X, weight, Y):\n",
    "    grad = np.zeros((2, )) # As 2 weights are given-> weight[0] and weight[1]\n",
    "\n",
    "    for i in range(X.shape[0]):\n",
    "        y_pred = hypothesis(X[i], weight)\n",
    "        grad[0] += (y_pred - Y[i]) * 1\n",
    "        grad[1] += (y_pred - Y[i]) * X[i]\n",
    "\n",
    "    return grad/X.shape[0]"
   ]
  },
  {
   "cell_type": "code",
   "execution_count": 88,
   "id": "965fe6b4-ac88-4fe8-ba99-3102a65edf96",
   "metadata": {},
   "outputs": [],
   "source": [
    "def gradient_descent(X, Y):\n",
    "    weights = np.zeros((2, ))  \n",
    "    lr_rate = 0.003\n",
    "    loss_epoch = []\n",
    "\n",
    "    epochs = 5000\n",
    "\n",
    "    for i in range(epochs):\n",
    "        grad = gradient(X, weights, Y)\n",
    "\n",
    "        loss_epoch.append(loss_func(X, Y, weights))\n",
    "        \n",
    "        weights[0] = weights[0] - lr_rate * grad[0]\n",
    "        weights[1] = weights[1] - lr_rate * grad[1]\n",
    "    \n",
    "    return weights, loss_epoch\n"
   ]
  },
  {
   "cell_type": "code",
   "execution_count": 89,
   "id": "0bda07af-3972-4027-82c3-ca076ac64569",
   "metadata": {},
   "outputs": [],
   "source": [
    "weights, loss_epoch = gradient_descent(X, Y)"
   ]
  },
  {
   "cell_type": "code",
   "execution_count": 100,
   "id": "7b412a73-9244-4019-9a53-ec94458afa2b",
   "metadata": {},
   "outputs": [],
   "source": [
    "# As we have not normalised the data, the value is increasing But after changing code, data is good now "
   ]
  },
  {
   "cell_type": "markdown",
   "id": "1d0f1ebd-cf76-4196-a249-cfe091af9ecb",
   "metadata": {},
   "source": [
    "# Everything in Python is a class"
   ]
  },
  {
   "cell_type": "code",
   "execution_count": 92,
   "id": "06e77966-d622-4fa1-9ff1-41a15d800a7a",
   "metadata": {},
   "outputs": [],
   "source": [
    "#Making our own class right now\n",
    "class MyClass:\n",
    "    def __init__(self,value):\n",
    "        self.value = value\n",
    "    def __add__(self,other):\n",
    "        return self.value+ ord(other.value)"
   ]
  },
  {
   "cell_type": "code",
   "execution_count": 93,
   "id": "7339cb46-d06d-4c03-9a8f-9fb609102ae6",
   "metadata": {},
   "outputs": [],
   "source": [
    "a = MyClass(2)\n",
    "b = MyClass('2')"
   ]
  },
  {
   "cell_type": "code",
   "execution_count": 94,
   "id": "8f753ecb-2d3a-4e97-8d97-4ebecf79e1ac",
   "metadata": {},
   "outputs": [
    {
     "data": {
      "text/plain": [
       "52"
      ]
     },
     "execution_count": 94,
     "metadata": {},
     "output_type": "execute_result"
    }
   ],
   "source": [
    "a+b"
   ]
  },
  {
   "cell_type": "code",
   "execution_count": 95,
   "id": "8ca9490a-79a1-44b1-b381-c68245de385b",
   "metadata": {},
   "outputs": [
    {
     "name": "stdout",
     "output_type": "stream",
     "text": [
      "<class '__main__.MyClass'>\n"
     ]
    }
   ],
   "source": [
    "print(type(a))"
   ]
  },
  {
   "cell_type": "markdown",
   "id": "248352b0-bd16-41a7-8fda-41fd27bb7fa9",
   "metadata": {},
   "source": [
    "# Normalising the data"
   ]
  },
  {
   "cell_type": "code",
   "execution_count": 96,
   "id": "9cc50ac9-cf22-4fd4-a0a1-55980891fb27",
   "metadata": {},
   "outputs": [],
   "source": [
    "# Storing the data in finite range is normalisation. Eg-> (-7,500)->(-1,2)"
   ]
  },
  {
   "cell_type": "code",
   "execution_count": 97,
   "id": "093f6330-c80f-41eb-bec0-d0ad5d7a6c35",
   "metadata": {},
   "outputs": [
    {
     "data": {
      "text/plain": [
       "np.float64(7.90261496319278e-12)"
      ]
     },
     "execution_count": 97,
     "metadata": {},
     "output_type": "execute_result"
    }
   ],
   "source": [
    " loss_epoch[-1]"
   ]
  },
  {
   "cell_type": "code",
   "execution_count": 98,
   "id": "c1bdf744-23e2-4c1c-8980-3a2be06395da",
   "metadata": {},
   "outputs": [],
   "source": [
    "# ans is approaching to (-12) Power (v. close to zero)"
   ]
  },
  {
   "cell_type": "code",
   "execution_count": 99,
   "id": "c37d4345-cd13-428a-a320-677ed2cc6e96",
   "metadata": {},
   "outputs": [
    {
     "data": {
      "text/plain": [
       "[<matplotlib.lines.Line2D at 0x2906e24e630>]"
      ]
     },
     "execution_count": 99,
     "metadata": {},
     "output_type": "execute_result"
    },
    {
     "data": {
      "image/png": "[encoded data removed]",
      "text/plain": [
       "<Figure size 640x480 with 1 Axes>"
      ]
     },
     "metadata": {},
     "output_type": "display_data"
    }
   ],
   "source": [
    "plt.plot(loss_epoch)"
   ]
  },
  {
   "cell_type": "code",
   "execution_count": 101,
   "id": "daaa36e2-cadc-43c7-b7b8-6f296203a47a",
   "metadata": {},
   "outputs": [
    {
     "data": {
      "text/plain": [
       "array([6.0219982 , 7.17999785])"
      ]
     },
     "execution_count": 101,
     "metadata": {},
     "output_type": "execute_result"
    }
   ],
   "source": [
    "weights"
   ]
  },
  {
   "cell_type": "code",
   "execution_count": 103,
   "id": "e1a3073f-c588-4029-82c6-edacd856d5dc",
   "metadata": {},
   "outputs": [
    {
     "name": "stdout",
     "output_type": "stream",
     "text": [
      "27.56199175667759\n"
     ]
    }
   ],
   "source": [
    "print(weights[0]+weights[1]*3) #y=3x+c"
   ]
  },
  {
   "cell_type": "markdown",
   "id": "e6e52dad-84f3-4693-ae98-fc1dce33d4b5",
   "metadata": {},
   "source": [
    "***But this is not optimised code***"
   ]
  },
  {
   "cell_type": "markdown",
   "id": "c204749a-6760-4553-b250-330a34fc189c",
   "metadata": {},
   "source": [
    "**Eg-> Price = 3(Area) + Security**"
   ]
  },
  {
   "cell_type": "code",
   "execution_count": null,
   "id": "22a31e26-2cc0-4bfb-8cea-46d374e911d8",
   "metadata": {},
   "outputs": [],
   "source": []
  }
 ],
 "metadata": {
  "kernelspec": {
   "display_name": "Python 3 (ipykernel)",
   "language": "python",
   "name": "python3"
  },
  "language_info": {
   "codemirror_mode": {
    "name": "ipython",
    "version": 3
   },
   "file_extension": ".py",
   "mimetype": "text/x-python",
   "name": "python",
   "nbconvert_exporter": "python",
   "pygments_lexer": "ipython3",
   "version": "3.12.4"
  }
 },
 "nbformat": 4,
 "nbformat_minor": 5
}
