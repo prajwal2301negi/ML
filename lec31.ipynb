{
 "cells": [
  {
   "cell_type": "code",
   "execution_count": 1,
   "id": "a01a4b16-3561-4868-a3dc-86a3e12eb96a",
   "metadata": {},
   "outputs": [],
   "source": [
    "import numpy as np\n",
    "import pandas as pd\n",
    "import matplotlib.pyplot as plt"
   ]
  },
  {
   "cell_type": "code",
   "execution_count": 2,
   "id": "6f2ef16f-f895-4658-9572-d7b9d2aec96e",
   "metadata": {},
   "outputs": [],
   "source": [
    "mean_1 = np.array([12, -19])\n",
    "mean_2 = np.array([-10, 20])"
   ]
  },
  {
   "cell_type": "code",
   "execution_count": 3,
   "id": "eb4f530f-76a4-417e-8be2-af5a457985ef",
   "metadata": {},
   "outputs": [],
   "source": [
    "cov_1 = np.array([[1, 15],[15, 1]])\n",
    "cov_2 = np.array([[1, 10],[10, 1]])\n",
    "# Covariance -> means how much by amount is it spreading"
   ]
  },
  {
   "cell_type": "code",
   "execution_count": 4,
   "id": "a2ce2fb9-6cff-49ed-9568-6de090d391b7",
   "metadata": {},
   "outputs": [
    {
     "name": "stderr",
     "output_type": "stream",
     "text": [
      "C:\\Users\\prajwal\\AppData\\Local\\Temp\\ipykernel_16132\\1743241178.py:1: RuntimeWarning: covariance is not symmetric positive-semidefinite.\n",
      "  dist_1 = np.random.multivariate_normal(mean_1, cov_1, size = 1000)\n",
      "C:\\Users\\prajwal\\AppData\\Local\\Temp\\ipykernel_16132\\1743241178.py:2: RuntimeWarning: covariance is not symmetric positive-semidefinite.\n",
      "  dist_2 = np.random.multivariate_normal(mean_2, cov_2, size = 1000)\n"
     ]
    }
   ],
   "source": [
    "dist_1 = np.random.multivariate_normal(mean_1, cov_1, size = 1000) \n",
    "dist_2 = np.random.multivariate_normal(mean_2, cov_2, size = 1000)  \n",
    "# Multivariant means distribution with more than 1 dimension"
   ]
  },
  {
   "cell_type": "code",
   "execution_count": 5,
   "id": "243ae13f-d06b-4872-9b70-aedf40f57fbb",
   "metadata": {},
   "outputs": [
    {
     "data": {
      "text/plain": [
       "((1000, 2), (1000, 2))"
      ]
     },
     "execution_count": 5,
     "metadata": {},
     "output_type": "execute_result"
    }
   ],
   "source": [
    "dist_1.shape, dist_2.shape"
   ]
  },
  {
   "cell_type": "code",
   "execution_count": 6,
   "id": "57d53d0d-554f-4bc5-8b11-7a736804c78f",
   "metadata": {},
   "outputs": [
    {
     "data": {
      "text/plain": [
       "<matplotlib.collections.PathCollection at 0x2792e043dd0>"
      ]
     },
     "execution_count": 6,
     "metadata": {},
     "output_type": "execute_result"
    },
    {
     "data": {
      "image/png": "[encoded data removed]",
      "text/plain": [
       "<Figure size 640x480 with 1 Axes>"
      ]
     },
     "metadata": {},
     "output_type": "display_data"
    }
   ],
   "source": [
    "plt.scatter(dist_1[:,0], dist_1[:, 1], c = 'green')\n",
    "plt.scatter(dist_2[:,0], dist_2[:, 1], c = 'blue')"
   ]
  },
  {
   "cell_type": "code",
   "execution_count": 7,
   "id": "29954dcc-5d6b-4f49-a0a6-e5283fb97ef1",
   "metadata": {},
   "outputs": [],
   "source": [
    "# When we require two types of variances with the type of equation\n",
    "# that is why in multidimension we do not say variance, we say co-variance\n",
    "# [0,0] represents relation of x-axis with x-axis,\n",
    "# [0,1] represents relation of x-axis with y-axis,\n",
    "# [1,0] represents relation of y-axis with x-axis,\n",
    "# [1,1] represents relation of y-axis with y-axis."
   ]
  },
  {
   "cell_type": "code",
   "execution_count": 8,
   "id": "0e1f68f1-b18e-45f5-8377-2c8b3d80e83c",
   "metadata": {},
   "outputs": [],
   "source": [
    "dataset = np.zeros((2000,3))\n",
    "\n",
    "dataset[:1000, :-1] = dist_1\n",
    "dataset[1000:, :-1] = dist_2\n",
    "dataset[:1000, -1] = 1 # output"
   ]
  },
  {
   "cell_type": "code",
   "execution_count": 9,
   "id": "854a82a6-653b-489e-a031-b77b3c3c1a0b",
   "metadata": {},
   "outputs": [],
   "source": [
    "u = np.mean(dataset[:, :-1], axis = 0)\n",
    "std = np.std(dataset[:, :-1], axis = 0)\n",
    "dataset[:, :-1] = (dataset[:, :-1] - u)/std"
   ]
  },
  {
   "cell_type": "code",
   "execution_count": 10,
   "id": "70769ec4-1f60-4781-8fdf-e66ed8333c45",
   "metadata": {},
   "outputs": [],
   "source": [
    "ones = np.ones((dataset.shape[0], 1))\n",
    "dataset = np.hstack((ones, dataset))"
   ]
  },
  {
   "cell_type": "code",
   "execution_count": 11,
   "id": "c10da599-f6a9-43d5-891b-c3063128d0e2",
   "metadata": {},
   "outputs": [],
   "source": [
    "np.random.shuffle(dataset)"
   ]
  },
  {
   "cell_type": "code",
   "execution_count": 12,
   "id": "f102e9b3-1b68-4b96-955c-a8fda01cfea0",
   "metadata": {},
   "outputs": [
    {
     "name": "stdout",
     "output_type": "stream",
     "text": [
      "[[ 1.          0.74837367 -0.74741031  1.        ]\n",
      " [ 1.          0.31187986 -1.0844275   1.        ]\n",
      " [ 1.         -0.80300079  0.80377865  0.        ]\n",
      " [ 1.          0.91248579 -0.97775784  1.        ]\n",
      " [ 1.         -1.04976893  1.02139743  0.        ]\n",
      " [ 1.          1.05082949 -1.05327275  1.        ]\n",
      " [ 1.          1.45562968 -1.19138026  1.        ]\n",
      " [ 1.         -1.05238041  0.6938612   0.        ]\n",
      " [ 1.         -1.37769406  0.75829938  0.        ]\n",
      " [ 1.          0.89963728 -1.22352837  1.        ]]\n"
     ]
    }
   ],
   "source": [
    "print(dataset[:10])"
   ]
  },
  {
   "cell_type": "code",
   "execution_count": 13,
   "id": "b7fcf391-e622-4676-95f6-f7a8a43482bc",
   "metadata": {},
   "outputs": [],
   "source": [
    "split = 0.8\n",
    "\n",
    "train_X = dataset[:int(split * dataset.shape[0]), :-1]\n",
    "test_X = dataset[int(split * dataset.shape[0]):, :-1]\n",
    "train_Y = dataset[:int(split * dataset.shape[0]), -1]\n",
    "test_Y = dataset[int(split * dataset.shape[0]):, -1]"
   ]
  },
  {
   "cell_type": "code",
   "execution_count": 14,
   "id": "43734b1c-8b6e-429c-be9e-e941b6ae5fb3",
   "metadata": {},
   "outputs": [
    {
     "name": "stdout",
     "output_type": "stream",
     "text": [
      "(1600, 3) (400, 3) (1600,) (400,)\n"
     ]
    }
   ],
   "source": [
    "print(train_X.shape, test_X.shape, train_Y.shape, test_Y.shape)"
   ]
  },
  {
   "cell_type": "code",
   "execution_count": 15,
   "id": "24477e55-8d0c-4b4c-b6d9-218900643ed6",
   "metadata": {},
   "outputs": [],
   "source": [
    "def hypothesis(X, weights):\n",
    "    return 1 / (1+np.exp(-1*np.dot(X, weights)))"
   ]
  },
  {
   "cell_type": "code",
   "execution_count": 16,
   "id": "2970fdc7-6b6c-475e-aae9-8dce5baac155",
   "metadata": {},
   "outputs": [],
   "source": [
    "def loss_func (X, weights, Y):\n",
    "    Y_pred = hypothesis(X,weights)\n",
    "    loss = np.mean(Y * np.log(Y_pred) + (1-Y) * np.log(1-Y_pred))\n",
    "    return -1 * loss"
   ]
  },
  {
   "cell_type": "code",
   "execution_count": 17,
   "id": "f50c2958-4a6c-492e-948e-d54bac35e3fe",
   "metadata": {},
   "outputs": [],
   "source": [
    "def gradient(X, Y, weight):\n",
    "    y_pred = hypothesis(X, weight)\n",
    "    grad = np.dot(X.T, (Y - y_pred))\n",
    "    \n",
    "    return grad/X.shape[0]"
   ]
  },
  {
   "cell_type": "code",
   "execution_count": 18,
   "id": "54846bec-d64b-4bf4-9357-7e4cf165b99a",
   "metadata": {},
   "outputs": [],
   "source": [
    "def gradient_descent(X, Y):\n",
    "    weights = np.zeros((X.shape[1], ))\n",
    "    lr_rate = 0.03\n",
    "    loss_epoch = []\n",
    "\n",
    "    epochs = 10000\n",
    "    \n",
    "    for i in range(epochs):\n",
    "        grad = gradient(X, Y, weights)\n",
    "        loss_epoch.append(loss_func(X, weights, Y))\n",
    "        weights = weights + lr_rate * grad\n",
    "\n",
    "    return weights, loss_epoch"
   ]
  },
  {
   "cell_type": "code",
   "execution_count": 19,
   "id": "8b94ff5b-4692-4cc8-bbea-b3acf1caa664",
   "metadata": {},
   "outputs": [
    {
     "name": "stdout",
     "output_type": "stream",
     "text": [
      "0.8401811122894287\n"
     ]
    }
   ],
   "source": [
    "import time\n",
    "start = time.time()\n",
    "weights, loss_epoch = gradient_descent(train_X, train_Y)\n",
    "print(time.time() - start)"
   ]
  },
  {
   "cell_type": "code",
   "execution_count": 20,
   "id": "4820f978-7172-4e79-84ed-caa8ee2433df",
   "metadata": {},
   "outputs": [
    {
     "data": {
      "text/plain": [
       "[<matplotlib.lines.Line2D at 0x2792e16e9c0>]"
      ]
     },
     "execution_count": 20,
     "metadata": {},
     "output_type": "execute_result"
    },
    {
     "data": {
      "image/png": "[encoded data removed]",
      "text/plain": [
       "<Figure size 640x480 with 1 Axes>"
      ]
     },
     "metadata": {},
     "output_type": "display_data"
    }
   ],
   "source": [
    "plt.plot(loss_epoch)"
   ]
  },
  {
   "cell_type": "code",
   "execution_count": 21,
   "id": "19e5c83a-c2fe-4579-b278-d363ced0a8d6",
   "metadata": {},
   "outputs": [
    {
     "data": {
      "text/plain": [
       "[0.6931471805599452,\n",
       " 0.679340806722205,\n",
       " 0.6659273075429089,\n",
       " 0.6528952933390366,\n",
       " 0.6402335566782485]"
      ]
     },
     "execution_count": 21,
     "metadata": {},
     "output_type": "execute_result"
    }
   ],
   "source": [
    "loss_epoch[:5]"
   ]
  },
  {
   "cell_type": "code",
   "execution_count": 22,
   "id": "34092fb2-2c0d-4058-829f-5ccff35a58d8",
   "metadata": {},
   "outputs": [],
   "source": [
    "# whenerver our loss comes, 1st Loss is this only."
   ]
  },
  {
   "cell_type": "code",
   "execution_count": 23,
   "id": "977dcbef-b5f8-4d56-8f18-08543971ca98",
   "metadata": {},
   "outputs": [
    {
     "data": {
      "text/plain": [
       "array([ 0.06268324,  3.15252786, -3.67679218])"
      ]
     },
     "execution_count": 23,
     "metadata": {},
     "output_type": "execute_result"
    }
   ],
   "source": [
    "weights"
   ]
  },
  {
   "cell_type": "code",
   "execution_count": 24,
   "id": "11946195-73d1-42f3-894f-262e8a215ed2",
   "metadata": {},
   "outputs": [],
   "source": [
    "X = np.arange(-20, 30)\n",
    "Y = -(weights[1] * X + weights[0])/weights[2]"
   ]
  },
  {
   "cell_type": "code",
   "execution_count": 25,
   "id": "7a1bcaaa-cf7f-4419-92c3-1432463c2888",
   "metadata": {},
   "outputs": [
    {
     "data": {
      "text/plain": [
       "[<matplotlib.lines.Line2D at 0x2792e0b30e0>]"
      ]
     },
     "execution_count": 25,
     "metadata": {},
     "output_type": "execute_result"
    },
    {
     "data": {
      "image/png": "[encoded data removed]",
      "text/plain": [
       "<Figure size 640x480 with 1 Axes>"
      ]
     },
     "metadata": {},
     "output_type": "display_data"
    }
   ],
   "source": [
    "plt.scatter(dist_1[:, 0], dist_1[:, 1], c = 'green')\n",
    "plt.scatter(dist_2[:, 0], dist_2[:, 1], c = 'blue')\n",
    "plt.plot(X, Y, color = 'pink')"
   ]
  },
  {
   "cell_type": "code",
   "execution_count": 26,
   "id": "6e3c56a8-0d4b-4c51-8501-746c8dbf5f29",
   "metadata": {},
   "outputs": [],
   "source": [
    "def predict(X, weights):\n",
    "    pred = hypothesis(X, weights)\n",
    "    print(pred)\n",
    "    if pred > 0.5:\n",
    "        return 1\n",
    "    else:\n",
    "        return 0"
   ]
  },
  {
   "cell_type": "code",
   "execution_count": 27,
   "id": "c6649dc1-c711-4ffd-a800-698843fc2dba",
   "metadata": {},
   "outputs": [
    {
     "name": "stdout",
     "output_type": "stream",
     "text": [
      "0.9981506106357378\n",
      "1 1.0\n"
     ]
    }
   ],
   "source": [
    "print(predict(test_X[0], weights), test_Y[0])"
   ]
  },
  {
   "cell_type": "code",
   "execution_count": 28,
   "id": "c4c6ac21-6a42-4edb-a6bd-ff77e88ed5ee",
   "metadata": {},
   "outputs": [],
   "source": [
    "# In LinearRegression, we calculated the dist between orignal and our line to see the accuracy of our Model"
   ]
  },
  {
   "cell_type": "code",
   "execution_count": 29,
   "id": "422c0e2e-d2bd-4394-bbf5-bdc9031b455f",
   "metadata": {},
   "outputs": [],
   "source": [
    "# Here,"
   ]
  },
  {
   "cell_type": "code",
   "execution_count": 30,
   "id": "9500721e-7feb-4fe6-8d4f-81093ffe665b",
   "metadata": {},
   "outputs": [
    {
     "name": "stdout",
     "output_type": "stream",
     "text": [
      "0.9981506106357378\n",
      "0.002818314284846476\n",
      "0.006128032520564683\n",
      "0.0024930519189206805\n",
      "0.9996909328863324\n",
      "0.9992771312120409\n",
      "0.00023904568961935762\n",
      "0.9982159629336655\n",
      "0.0014789103751130306\n",
      "0.9966811571915749\n",
      "0.0002334963417023435\n",
      "0.9994658324989756\n",
      "0.0008708433705978574\n",
      "0.0016800086176396052\n",
      "0.002781243048657567\n",
      "0.009448702784797721\n",
      "0.9992142222901493\n",
      "0.9997907300918265\n",
      "0.0010476238876616008\n",
      "0.0012149337322214144\n",
      "0.001827488871951338\n",
      "0.9991111644912825\n",
      "0.0017008485110834525\n",
      "0.9961262590004228\n",
      "0.007381251767757651\n",
      "0.009853100260006088\n",
      "0.994565015675696\n",
      "0.00037736142503847425\n",
      "0.9976577082208825\n",
      "0.0007981161715783822\n",
      "0.004096222817267199\n",
      "0.9991776969482163\n",
      "0.999844283276699\n",
      "0.9945052629548387\n",
      "0.9998270067625651\n",
      "0.0023639819974614583\n",
      "0.0006482938889799968\n",
      "0.0008627480748794669\n",
      "0.9914776758890037\n",
      "0.0025889204505722867\n",
      "0.0013034414856450563\n",
      "0.9993023389080739\n",
      "0.9985270273124112\n",
      "0.9941955367297313\n",
      "0.9995178947063655\n",
      "0.9992687858231332\n",
      "0.9992195926465485\n",
      "0.0005935530622145458\n",
      "0.00043438620715682076\n",
      "0.9871581681350138\n",
      "0.0034455282295497666\n",
      "0.9989743109475667\n",
      "0.9819547022245936\n",
      "0.0026824070541402903\n",
      "0.9988659258292065\n",
      "0.0014447780737188263\n",
      "0.00019252987603284426\n",
      "0.0012968623851715322\n",
      "0.0011136439969411114\n",
      "0.9999672624782634\n",
      "0.9996248872563358\n",
      "0.9996764289536653\n",
      "0.9979084389917992\n",
      "0.9998184672396524\n",
      "0.9991654655036484\n",
      "0.0006930183638367106\n",
      "0.9986183036789328\n",
      "0.00013822776482410535\n",
      "0.9988450191771925\n",
      "0.0005226326196776904\n",
      "0.998782009365054\n",
      "0.0020850298035077395\n",
      "0.0013050948149212736\n",
      "0.999353303260602\n",
      "0.9965372329596208\n",
      "0.004287934748605468\n",
      "0.9985104151801114\n",
      "0.9991945642269016\n",
      "0.0011046300013033714\n",
      "0.0012004127202884245\n",
      "0.0014837319627605096\n",
      "0.0011552146301884185\n",
      "0.9995706500837795\n",
      "0.0025231010095886196\n",
      "0.9874413555654841\n",
      "0.9953661567764507\n",
      "0.9967830475943613\n",
      "0.0065401101565710235\n",
      "0.0017458050929905977\n",
      "0.001748811242426013\n",
      "0.9990152259293822\n",
      "0.0020022873862636293\n",
      "0.0021724796569081387\n",
      "0.9984177691919479\n",
      "0.9995989405537189\n",
      "0.002793307914507391\n",
      "0.0002992527803727789\n",
      "0.9988553164481588\n",
      "0.9997277894550785\n",
      "0.9996437488609176\n",
      "0.9972132452336435\n",
      "0.0009183719596461645\n",
      "0.000593071254913233\n",
      "0.0005771339560659052\n",
      "0.999857561627182\n",
      "0.9987685969271518\n",
      "0.0007158510310915516\n",
      "0.9998878701172922\n",
      "0.0008640886337996475\n",
      "0.00044556218503278303\n",
      "0.0006075657162563158\n",
      "0.0008026480657074409\n",
      "0.9988508751108963\n",
      "0.00022005021745224795\n",
      "0.0018637555986752102\n",
      "0.0009492302733158771\n",
      "0.9992500045056532\n",
      "0.0024408148321924715\n",
      "0.9998485368578569\n",
      "0.9996619398505071\n",
      "0.0006995595251031224\n",
      "0.9939905219146803\n",
      "0.9999432505262555\n",
      "0.9994968760944334\n",
      "0.9975004715157378\n",
      "0.989385129636688\n",
      "0.0019804938294245753\n",
      "0.00038801460295296897\n",
      "0.9996843164319591\n",
      "0.9992996028062034\n",
      "0.9995256145968507\n",
      "0.0011731100683170005\n",
      "0.0019224139457383962\n",
      "0.0006447008124341475\n",
      "0.9979495179996158\n",
      "0.9917850886546308\n",
      "0.0003465004837206652\n",
      "0.0006527699394120138\n",
      "0.9993111649708294\n",
      "0.0005263882695083746\n",
      "0.0012318423125550052\n",
      "0.9987857337824719\n",
      "0.9998839929832044\n",
      "0.002351499952619101\n",
      "0.9990156869912223\n",
      "0.9960779266409088\n",
      "0.9997315619455412\n",
      "0.9982622300161283\n",
      "0.0035914503944816365\n",
      "0.0015191719206410618\n",
      "0.9996097311968224\n",
      "0.9981883440519402\n",
      "0.0009872853682858008\n",
      "0.9903431457621381\n",
      "0.9960796397668624\n",
      "0.000860789752527795\n",
      "0.9925848851731849\n",
      "0.9978870922786273\n",
      "0.9990510201551506\n",
      "0.9996565025649975\n",
      "0.0009303783818594425\n",
      "0.0034358316393291303\n",
      "0.9983890648642333\n",
      "0.0009370005795917757\n",
      "0.9999807677100403\n",
      "0.9947520962905814\n",
      "0.9995966454990924\n",
      "0.0011265374645261855\n",
      "0.9994217778160592\n",
      "0.0007642147610624241\n",
      "0.0016606614470691687\n",
      "0.9974009294988551\n",
      "0.9993564517613728\n",
      "0.0004228873238822123\n",
      "0.9991672555579896\n",
      "0.9991171498264285\n",
      "0.0021673547827512755\n",
      "0.004701938034341189\n",
      "0.001190390534715847\n",
      "0.9966342364496358\n",
      "0.0012041942003117897\n",
      "0.0004829512314993125\n",
      "0.0052272679498948675\n",
      "0.0011819252429234827\n",
      "0.0031905438857758863\n",
      "0.00298712954924446\n",
      "0.0008802990880935647\n",
      "0.9962924272849543\n",
      "0.0007923005311542136\n",
      "0.00024148671762302682\n",
      "0.9962404186586945\n",
      "0.9993165340630495\n",
      "0.9913223191639257\n",
      "0.000702064063549271\n",
      "0.996857380547954\n",
      "0.9987775804110649\n",
      "0.9990485877186684\n",
      "0.9997618091661328\n",
      "0.0005032399893360298\n",
      "0.0006530478838093918\n",
      "0.9996180073801108\n",
      "0.007597167707614277\n",
      "0.0011147698207974038\n",
      "0.0012070152219524769\n",
      "0.9998738151534503\n",
      "0.9991967058641188\n",
      "0.003172888700736445\n",
      "0.0017561201897018878\n",
      "0.0024006139228425344\n",
      "0.0012451596940041916\n",
      "0.0032766631663922736\n",
      "0.0007106267560187589\n",
      "0.9993077103565802\n",
      "0.00016616182168258564\n",
      "0.0023308672760910015\n",
      "0.00022108009543341244\n",
      "0.0026361666122319944\n",
      "0.9999305449384259\n",
      "0.001967668531602298\n",
      "0.004328248113576897\n",
      "0.0012127581642920977\n",
      "0.99961578749943\n",
      "0.9998588112765766\n",
      "0.0011650042579162598\n",
      "0.9967975908582625\n",
      "0.0025986414809495957\n",
      "0.9978060747493455\n",
      "0.9988305389000729\n",
      "0.9979127346656234\n",
      "0.9991092461290748\n",
      "0.9916729710232576\n",
      "0.9997600757043204\n",
      "0.998547828267419\n",
      "0.0004126420991250084\n",
      "0.9991523212382496\n",
      "0.0007379716728178689\n",
      "0.002439254735237875\n",
      "0.999296534235939\n",
      "0.9992225470774448\n",
      "0.0012494426394164026\n",
      "0.0005837460793841556\n",
      "0.9605105014105775\n",
      "0.9983594317669348\n",
      "0.9949789326825819\n",
      "0.004446035476029755\n",
      "0.0012455166471398143\n",
      "0.998845012028434\n",
      "0.0008276019217561691\n",
      "0.0012553804823131477\n",
      "0.0017716323088015186\n",
      "0.9969508295510308\n",
      "0.9993064259244585\n",
      "0.9905252700511665\n",
      "0.9988449594076535\n",
      "0.00019145635337486838\n",
      "0.0008875669273782376\n",
      "0.9994721948263225\n",
      "0.9995276184711254\n",
      "0.0002753649640697912\n",
      "0.0009879025085934\n",
      "0.0002831613497915954\n",
      "0.9948865901599412\n",
      "0.00041658969339992947\n",
      "0.0015526552420997695\n",
      "0.001105128064536824\n",
      "0.001301119502766276\n",
      "0.001020762240351085\n",
      "0.0004984950168532499\n",
      "0.995185618676989\n",
      "0.0017963195955456443\n",
      "0.9986434932016235\n",
      "0.0013188041567874604\n",
      "0.9992910045789095\n",
      "0.0005980232451514542\n",
      "0.9990645155937521\n",
      "0.002161235273700635\n",
      "0.0015101522199239862\n",
      "0.002078119874504627\n",
      "0.00013323127839864562\n",
      "0.0005591579223065852\n",
      "0.9985809808769442\n",
      "0.009140893737572556\n",
      "0.0026926474764675254\n",
      "0.0025120762560819497\n",
      "0.0029471264745070617\n",
      "0.003689084866112823\n",
      "0.9887837629654928\n",
      "0.9998007464429627\n",
      "0.0005058853134843054\n",
      "0.0011962044060551834\n",
      "0.999506839466845\n",
      "0.00031370457701606415\n",
      "0.0007525500483458763\n",
      "0.9995070556609794\n",
      "0.0057323506968006204\n",
      "0.9955943096998199\n",
      "0.0012611248007206334\n",
      "0.9989300494498821\n",
      "0.9968874932363275\n",
      "0.9996327996436529\n",
      "0.9996510672482414\n",
      "0.9998074665307295\n",
      "0.9997421418416134\n",
      "0.9980308153045384\n",
      "0.0005733630535446473\n",
      "0.998594069438385\n",
      "0.9971481522129138\n",
      "0.9995872686406415\n",
      "0.002854728466882211\n",
      "0.999164115959308\n",
      "0.9989565593843707\n",
      "0.998323447048162\n",
      "0.999650388735142\n",
      "0.001583209218832414\n",
      "0.006438834606117509\n",
      "0.99927524103068\n",
      "0.0013814189627189952\n",
      "0.9943779425111502\n",
      "0.0010081189533210813\n",
      "0.9968890520382301\n",
      "0.9956117347169648\n",
      "0.0017727698422815795\n",
      "0.00210469538386985\n",
      "0.9864038010758786\n",
      "0.9989706540922343\n",
      "0.0055300312150312865\n",
      "0.9998097095712819\n",
      "0.979772430106442\n",
      "0.00047101091479339653\n",
      "0.9991904655163738\n",
      "0.00026439213039414385\n",
      "0.0005341918180770166\n",
      "0.00025916210355561494\n",
      "0.9995964797576866\n",
      "0.01265814897144737\n",
      "0.998405403037969\n",
      "0.998742256627371\n",
      "0.0004864621416944588\n",
      "0.00037803306303086243\n",
      "0.9980759159195609\n",
      "0.9996067414002189\n",
      "0.007789245849841625\n",
      "0.002517150052436086\n",
      "0.0014657361020656277\n",
      "0.0020999624366511032\n",
      "0.0010999910368988638\n",
      "0.9969728591922217\n",
      "0.9990300763784477\n",
      "0.002423410196370904\n",
      "0.00142200047339476\n",
      "0.9992485573193116\n",
      "0.9990764874336472\n",
      "0.0002275143911992616\n",
      "0.0005264682043661048\n",
      "0.006478673432426518\n",
      "0.9955470379864111\n",
      "0.9941930643611919\n",
      "0.9995010395324573\n",
      "0.0003136437501636207\n",
      "0.0003390928531062501\n",
      "0.0029957857844774153\n",
      "0.0007609392644617316\n",
      "0.0026386412435316347\n",
      "0.9945973318218237\n",
      "0.0005307907375729101\n",
      "0.9933587655537662\n",
      "0.0012356460155430729\n",
      "0.9997202940622398\n",
      "0.0020519613048034517\n",
      "0.0015580230869793876\n",
      "0.000428189774264325\n",
      "0.00205975419262823\n",
      "0.9969484527306115\n",
      "0.9987077386002697\n",
      "0.0009162471856100639\n",
      "0.9996255644239662\n",
      "0.001934849884179095\n",
      "0.0005767013080713748\n",
      "0.00020728141188672912\n",
      "0.9998323937092551\n",
      "0.9967063383897885\n",
      "0.9929712181795971\n",
      "0.0025123710205626256\n",
      "0.9996290995374261\n",
      "0.001598291763898012\n",
      "0.9990123723568488\n",
      "0.9993723355035433\n",
      "0.9997611508391534\n",
      "0.0013485421629844065\n",
      "0.9982455319338908\n",
      "0.9970245791132771\n",
      "0.9996262888730434\n",
      "0.99967158640963\n",
      "0.002811616345762052\n",
      "0.00047376549179232053\n",
      "0.9983748844005162\n",
      "0.9985973118221868\n",
      "0.0022273002578496043\n",
      "0.9996795769154584\n",
      "0.9993449357935104\n",
      "1.0\n"
     ]
    }
   ],
   "source": [
    "corr = 0\n",
    "for i in range(test_X.shape[0]):\n",
    "    pred = predict(test_X[i], weights)\n",
    "    if pred == test_Y[i]:\n",
    "        corr += 1\n",
    "print(corr/test_X.shape[0])        "
   ]
  },
  {
   "cell_type": "code",
   "execution_count": 31,
   "id": "19fa99d8-c6e4-4ff5-acd5-f27da478ec85",
   "metadata": {},
   "outputs": [],
   "source": [
    "dataset = np.zeros((2000, 3))\n",
    "\n",
    "dataset[:1000, :-1] = dist_1  # starting 1000rows and leaving last column\n",
    "dataset[1000:, :-1] = dist_2  # last 1000rows and leaving last column\n",
    "dataset[1000:, -1] = 1        # last 1000rows, we are giving 1"
   ]
  },
  {
   "cell_type": "code",
   "execution_count": 32,
   "id": "572a0ff1-49e8-4459-9106-299911e9f30f",
   "metadata": {},
   "outputs": [],
   "source": [
    "# Normalising\n",
    "u = np.mean(dataset[:, : -1], axis = 0)\n",
    "std = np.std(dataset[:, : -1], axis = 0)\n",
    "dataset[:, : -1] = (dataset[:, : -1] - u)/std"
   ]
  },
  {
   "cell_type": "code",
   "execution_count": 33,
   "id": "3d51be0e-1f04-43b4-8120-fb33ffaffa7f",
   "metadata": {},
   "outputs": [],
   "source": [
    "# Adding ones\n",
    "ones = np.ones((dataset.shape[0], 1))\n",
    "dataset = np.hstack((ones, dataset))"
   ]
  },
  {
   "cell_type": "code",
   "execution_count": 34,
   "id": "52d38c4a-a6b6-4845-b99a-c8c2e709e33a",
   "metadata": {},
   "outputs": [],
   "source": [
    "np.random.shuffle(dataset)"
   ]
  },
  {
   "cell_type": "code",
   "execution_count": 35,
   "id": "adb9adcf-1003-4bdd-ab81-5cb5929fbb5c",
   "metadata": {},
   "outputs": [
    {
     "name": "stdout",
     "output_type": "stream",
     "text": [
      "[[ 1.         -1.29483155  0.94414909  1.        ]\n",
      " [ 1.          1.29399319 -0.94691304  0.        ]\n",
      " [ 1.          1.5217646  -0.88717854  0.        ]\n",
      " [ 1.          1.26717954 -1.0219175   0.        ]\n",
      " [ 1.         -0.8413198   1.11997798  1.        ]\n",
      " [ 1.          0.4196288  -0.95496759  0.        ]\n",
      " [ 1.         -1.35659562  0.97546178  1.        ]\n",
      " [ 1.          0.68377532 -1.34531741  0.        ]\n",
      " [ 1.          0.63100082 -0.81584755  0.        ]\n",
      " [ 1.          0.29493073 -0.81194143  0.        ]]\n"
     ]
    }
   ],
   "source": [
    "print(dataset[:10])  # starting 10rows"
   ]
  },
  {
   "cell_type": "code",
   "execution_count": 36,
   "id": "414899a7-9675-474c-aaaf-37b7a45fd8f6",
   "metadata": {},
   "outputs": [],
   "source": [
    "split = 0.8\n",
    "\n",
    "train_X = dataset[:int(split * dataset.shape[0]), :-1] # leaving last column \n",
    "test_X = dataset[int(split * dataset.shape[0]):, :-1]  # leaving last column ':-1'\n",
    "train_Y = dataset[:int(split * dataset.shape[0]), -1]  # taking '-1' only\n",
    "test_Y = dataset[int(split * dataset.shape[0]):, -1]"
   ]
  },
  {
   "cell_type": "code",
   "execution_count": 37,
   "id": "c194e33f-08db-4bd3-bd7b-11374a0a204c",
   "metadata": {},
   "outputs": [
    {
     "name": "stdout",
     "output_type": "stream",
     "text": [
      "(1600, 3) (400, 3) (1600,) (400,)\n"
     ]
    }
   ],
   "source": [
    "print(train_X.shape, test_X.shape, train_Y.shape, test_Y.shape)"
   ]
  },
  {
   "cell_type": "code",
   "execution_count": 38,
   "id": "7be75936-163f-469b-9239-099cd759a366",
   "metadata": {},
   "outputs": [],
   "source": [
    "# Now we will writing hypothesis_func, loss_func, gradient, gradient_descent"
   ]
  },
  {
   "cell_type": "code",
   "execution_count": 39,
   "id": "1169feda-dc5a-49e9-82a8-9d0f0cc7d8c6",
   "metadata": {},
   "outputs": [],
   "source": [
    "def hypothesis(X, weights):\n",
    "    return 1 / (1 + np.exp(-1 * np.dot(X, weights)))"
   ]
  },
  {
   "cell_type": "code",
   "execution_count": 40,
   "id": "015e5f20-d9ab-4e53-bb53-13b0c9051a8b",
   "metadata": {},
   "outputs": [],
   "source": [
    "def loss_func(X, weights, Y):\n",
    "    loss = 0\n",
    "    Y_pred = hypothesis(X, weights)\n",
    "    loss = np.mean(Y * np.log(Y_pred) + (1-Y) * np.log(1 - Y_pred))\n",
    "    return -1 * loss"
   ]
  },
  {
   "cell_type": "code",
   "execution_count": 41,
   "id": "cfc37332-054e-41f5-9fc0-5c79ab0aae7c",
   "metadata": {},
   "outputs": [],
   "source": [
    "def gradient(X, Y, weight):\n",
    "    y_pred = hypothesis(X, weight)\n",
    "    grad = np.dot(X.T, (Y - y_pred))\n",
    "    \n",
    "    return grad/X.shape[0]"
   ]
  },
  {
   "cell_type": "code",
   "execution_count": 42,
   "id": "f3f523bf-2a1e-4dbb-9ddb-b6584c67e554",
   "metadata": {},
   "outputs": [],
   "source": [
    "def gradient_descent(X, Y):\n",
    "    \n",
    "    weights = np.zeros((X.shape[1], ))\n",
    "    lr_rate = 0.03\n",
    "    loss_epoch = []\n",
    "    epochs = 1000\n",
    "    \n",
    "    for i in range(epochs):\n",
    "        \n",
    "        grad = gradient(X, Y, weights)\n",
    "        loss_epoch.append(loss_func(X, weights, Y))\n",
    "        weights = weights + lr_rate * grad\n",
    "\n",
    "    return weights, loss_epoch"
   ]
  },
  {
   "cell_type": "code",
   "execution_count": 43,
   "id": "31110144-a568-4f50-9b53-5899ad170c4e",
   "metadata": {},
   "outputs": [
    {
     "name": "stdout",
     "output_type": "stream",
     "text": [
      "0.0837094783782959\n"
     ]
    }
   ],
   "source": [
    "import time\n",
    "start = time.time()\n",
    "weights, loss_epoch = gradient_descent(train_X, train_Y)\n",
    "print(time.time() - start)"
   ]
  },
  {
   "cell_type": "code",
   "execution_count": 44,
   "id": "3bcd87e6-6e2e-43d6-bdb2-7dddcc4bcb4f",
   "metadata": {},
   "outputs": [
    {
     "data": {
      "text/plain": [
       "[<matplotlib.lines.Line2D at 0x2793029b410>]"
      ]
     },
     "execution_count": 44,
     "metadata": {},
     "output_type": "execute_result"
    },
    {
     "data": {
      "image/png": "[encoded data removed]",
      "text/plain": [
       "<Figure size 640x480 with 1 Axes>"
      ]
     },
     "metadata": {},
     "output_type": "display_data"
    }
   ],
   "source": [
    "plt.plot(loss_epoch)"
   ]
  },
  {
   "cell_type": "code",
   "execution_count": null,
   "id": "ec010a2b-7fbb-4047-abcc-21b5ed81fa13",
   "metadata": {},
   "outputs": [],
   "source": []
  }
 ],
 "metadata": {
  "kernelspec": {
   "display_name": "Python 3 (ipykernel)",
   "language": "python",
   "name": "python3"
  },
  "language_info": {
   "codemirror_mode": {
    "name": "ipython",
    "version": 3
   },
   "file_extension": ".py",
   "mimetype": "text/x-python",
   "name": "python",
   "nbconvert_exporter": "python",
   "pygments_lexer": "ipython3",
   "version": "3.12.4"
  }
 },
 "nbformat": 4,
 "nbformat_minor": 5
}
