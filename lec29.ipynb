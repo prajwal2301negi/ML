{
 "cells": [
  {
   "cell_type": "code",
   "execution_count": 1,
   "id": "718535e8-8bad-4386-9145-e6862dbb402b",
   "metadata": {},
   "outputs": [],
   "source": [
    "import pandas as pd\n",
    "import numpy as np\n",
    "import matplotlib.pyplot as plt"
   ]
  },
  {
   "cell_type": "code",
   "execution_count": 2,
   "id": "e4f70d81-9645-4614-a9e0-3420efa66101",
   "metadata": {},
   "outputs": [],
   "source": [
    "df = pd.read_csv(r\"C:\\Users\\prajwal\\Downloads\\boston_housing.csv\", header=None)\n",
    "df = df.values\n",
    "data = df[:,:-1]\n",
    "target = df[:,-1]"
   ]
  },
  {
   "cell_type": "code",
   "execution_count": 3,
   "id": "ecf6fae9-7277-4d7e-b7a8-cc3930838be1",
   "metadata": {},
   "outputs": [
    {
     "data": {
      "text/plain": [
       "((507, 13), (507,))"
      ]
     },
     "execution_count": 3,
     "metadata": {},
     "output_type": "execute_result"
    }
   ],
   "source": [
    "data.shape, target.shape"
   ]
  },
  {
   "cell_type": "code",
   "execution_count": 4,
   "id": "efc501b9-9972-4f82-a691-e9d500c52013",
   "metadata": {},
   "outputs": [
    {
     "ename": "TypeError",
     "evalue": "unsupported operand type(s) for /: 'str' and 'int'",
     "output_type": "error",
     "traceback": [
      "\u001b[1;31m---------------------------------------------------------------------------\u001b[0m",
      "\u001b[1;31mTypeError\u001b[0m                                 Traceback (most recent call last)",
      "Cell \u001b[1;32mIn[4], line 1\u001b[0m\n\u001b[1;32m----> 1\u001b[0m u \u001b[38;5;241m=\u001b[39m \u001b[43mnp\u001b[49m\u001b[38;5;241;43m.\u001b[39;49m\u001b[43mmean\u001b[49m\u001b[43m(\u001b[49m\u001b[43mdata\u001b[49m\u001b[43m,\u001b[49m\u001b[43m \u001b[49m\u001b[43maxis\u001b[49m\u001b[43m \u001b[49m\u001b[38;5;241;43m=\u001b[39;49m\u001b[43m \u001b[49m\u001b[38;5;241;43m0\u001b[39;49m\u001b[43m)\u001b[49m\n\u001b[0;32m      2\u001b[0m std \u001b[38;5;241m=\u001b[39m np\u001b[38;5;241m.\u001b[39mstd(data, axis \u001b[38;5;241m=\u001b[39m \u001b[38;5;241m0\u001b[39m)\n\u001b[0;32m      3\u001b[0m data \u001b[38;5;241m=\u001b[39m (data\u001b[38;5;241m-\u001b[39mu)\u001b[38;5;241m/\u001b[39mstd\n",
      "File \u001b[1;32m~\\AppData\\Local\\Programs\\Python\\Python312\\Lib\\site-packages\\numpy\\core\\fromnumeric.py:3504\u001b[0m, in \u001b[0;36mmean\u001b[1;34m(a, axis, dtype, out, keepdims, where)\u001b[0m\n\u001b[0;32m   3501\u001b[0m     \u001b[38;5;28;01melse\u001b[39;00m:\n\u001b[0;32m   3502\u001b[0m         \u001b[38;5;28;01mreturn\u001b[39;00m mean(axis\u001b[38;5;241m=\u001b[39maxis, dtype\u001b[38;5;241m=\u001b[39mdtype, out\u001b[38;5;241m=\u001b[39mout, \u001b[38;5;241m*\u001b[39m\u001b[38;5;241m*\u001b[39mkwargs)\n\u001b[1;32m-> 3504\u001b[0m \u001b[38;5;28;01mreturn\u001b[39;00m \u001b[43m_methods\u001b[49m\u001b[38;5;241;43m.\u001b[39;49m\u001b[43m_mean\u001b[49m\u001b[43m(\u001b[49m\u001b[43ma\u001b[49m\u001b[43m,\u001b[49m\u001b[43m \u001b[49m\u001b[43maxis\u001b[49m\u001b[38;5;241;43m=\u001b[39;49m\u001b[43maxis\u001b[49m\u001b[43m,\u001b[49m\u001b[43m \u001b[49m\u001b[43mdtype\u001b[49m\u001b[38;5;241;43m=\u001b[39;49m\u001b[43mdtype\u001b[49m\u001b[43m,\u001b[49m\n\u001b[0;32m   3505\u001b[0m \u001b[43m                      \u001b[49m\u001b[43mout\u001b[49m\u001b[38;5;241;43m=\u001b[39;49m\u001b[43mout\u001b[49m\u001b[43m,\u001b[49m\u001b[43m \u001b[49m\u001b[38;5;241;43m*\u001b[39;49m\u001b[38;5;241;43m*\u001b[39;49m\u001b[43mkwargs\u001b[49m\u001b[43m)\u001b[49m\n",
      "File \u001b[1;32m~\\AppData\\Local\\Programs\\Python\\Python312\\Lib\\site-packages\\numpy\\core\\_methods.py:121\u001b[0m, in \u001b[0;36m_mean\u001b[1;34m(a, axis, dtype, out, keepdims, where)\u001b[0m\n\u001b[0;32m    119\u001b[0m \u001b[38;5;28;01mif\u001b[39;00m \u001b[38;5;28misinstance\u001b[39m(ret, mu\u001b[38;5;241m.\u001b[39mndarray):\n\u001b[0;32m    120\u001b[0m     \u001b[38;5;28;01mwith\u001b[39;00m _no_nep50_warning():\n\u001b[1;32m--> 121\u001b[0m         ret \u001b[38;5;241m=\u001b[39m \u001b[43mum\u001b[49m\u001b[38;5;241;43m.\u001b[39;49m\u001b[43mtrue_divide\u001b[49m\u001b[43m(\u001b[49m\n\u001b[0;32m    122\u001b[0m \u001b[43m                \u001b[49m\u001b[43mret\u001b[49m\u001b[43m,\u001b[49m\u001b[43m \u001b[49m\u001b[43mrcount\u001b[49m\u001b[43m,\u001b[49m\u001b[43m \u001b[49m\u001b[43mout\u001b[49m\u001b[38;5;241;43m=\u001b[39;49m\u001b[43mret\u001b[49m\u001b[43m,\u001b[49m\u001b[43m \u001b[49m\u001b[43mcasting\u001b[49m\u001b[38;5;241;43m=\u001b[39;49m\u001b[38;5;124;43m'\u001b[39;49m\u001b[38;5;124;43munsafe\u001b[39;49m\u001b[38;5;124;43m'\u001b[39;49m\u001b[43m,\u001b[49m\u001b[43m \u001b[49m\u001b[43msubok\u001b[49m\u001b[38;5;241;43m=\u001b[39;49m\u001b[38;5;28;43;01mFalse\u001b[39;49;00m\u001b[43m)\u001b[49m\n\u001b[0;32m    123\u001b[0m     \u001b[38;5;28;01mif\u001b[39;00m is_float16_result \u001b[38;5;129;01mand\u001b[39;00m out \u001b[38;5;129;01mis\u001b[39;00m \u001b[38;5;28;01mNone\u001b[39;00m:\n\u001b[0;32m    124\u001b[0m         ret \u001b[38;5;241m=\u001b[39m arr\u001b[38;5;241m.\u001b[39mdtype\u001b[38;5;241m.\u001b[39mtype(ret)\n",
      "\u001b[1;31mTypeError\u001b[0m: unsupported operand type(s) for /: 'str' and 'int'"
     ]
    }
   ],
   "source": [
    "u = np.mean(data, axis = 0)\n",
    "std = np.std(data, axis = 0)\n",
    "data = (data-u)/std"
   ]
  },
  {
   "cell_type": "code",
   "execution_count": null,
   "id": "c6c21ea2-2154-41cc-9280-a215f77c5557",
   "metadata": {},
   "outputs": [],
   "source": [
    "ones = np.ones((data.shape[0],1))\n",
    "data = np.hstack((ones, data))"
   ]
  },
  {
   "cell_type": "code",
   "execution_count": null,
   "id": "3bfba8bd-51f7-4d2a-82d8-c7331c83bfba",
   "metadata": {},
   "outputs": [],
   "source": [
    "split = 0.8\n",
    "train_X = data[:int(split * data.shape[0]), :]\n",
    "test_X = data[int(split * data.shape[0]) :, :]\n",
    "train_Y = target[:int(split * target.shape[0])]\n",
    "test_Y = target[int(split * target.shape[0]):]"
   ]
  },
  {
   "cell_type": "code",
   "execution_count": null,
   "id": "ae98a2bf-bdbc-4fd4-93db-ae55710adae9",
   "metadata": {},
   "outputs": [],
   "source": [
    "print(train_X.shape, test_X.shape, train_Y.shape, test_Y.shape)"
   ]
  },
  {
   "cell_type": "code",
   "execution_count": null,
   "id": "3bdcab92-3c10-43f4-b548-c74e0b28dcbc",
   "metadata": {},
   "outputs": [],
   "source": [
    "def hypothesis (X, weight):\n",
    "    y_pred = 0\n",
    "    for i in range(X.shape[0]):\n",
    "        y_pred += weight[i] * X[i]\n",
    "    return y_pred "
   ]
  },
  {
   "cell_type": "code",
   "execution_count": null,
   "id": "511c36d9-094d-4625-b9c5-58ea3b545338",
   "metadata": {},
   "outputs": [],
   "source": [
    "def loss_func(X, weights, Y):\n",
    "    loss = 0\n",
    "\n",
    "    for i in range(X.shape[0]):\n",
    "        Y_pred = hypothesis(X[i], weights)\n",
    "        loss+= (Y_pred - Y[i])**2\n",
    "\n",
    "    return loss/X.shape[0]"
   ]
  },
  {
   "cell_type": "code",
   "execution_count": null,
   "id": "5ea1de42-dc8e-4365-a95d-003d692a938b",
   "metadata": {},
   "outputs": [],
   "source": [
    "def gradient(X, Y, weight):\n",
    "    grad = np.zeros((X.shape[1], ))\n",
    "\n",
    "    for j in range(X.shape[1]):\n",
    "        for i in range(X.shape[0]):\n",
    "            y_pred = hypothesis(X[i], weight)\n",
    "            grad[j] += (y_pred - Y[i]) * X[i][j]\n",
    "\n",
    "    return grad/X.shape[0]"
   ]
  },
  {
   "cell_type": "code",
   "execution_count": null,
   "id": "f68a4b56-6abe-4b84-bf9b-fdd436cb7d5a",
   "metadata": {},
   "outputs": [],
   "source": [
    "def gradient_descent(X,Y):\n",
    "    weights = np.zeros((X.shape[1], ))\n",
    "    lr_rate = 0.03\n",
    "    loss_epoch=[]\n",
    "\n",
    "    epochs = 1000\n",
    "\n",
    "    for i in range(epochs):\n",
    "        grad = gradient(X, Y, weights)\n",
    "        loss_epoch.append(loss_func(X, weights, Y))\n",
    "\n",
    "        for j in range(X.shape[1]):\n",
    "            weights[j] = weights[j] - lr_rate *  grad[j]\n",
    "\n",
    "    return weights, loss_epoch"
   ]
  },
  {
   "cell_type": "code",
   "execution_count": null,
   "id": "393ccbfa-13bc-4533-b505-adf989d6a484",
   "metadata": {},
   "outputs": [],
   "source": [
    "from sklearn import metrics\n",
    "weights, loss_epoch = gradient_descent(train_X, train_Y)\n",
    "y_pred = hypothesis(test_X, weights)"
   ]
  },
  {
   "cell_type": "code",
   "execution_count": null,
   "id": "8542c406-8480-410b-ae55-2c19874f9615",
   "metadata": {},
   "outputs": [],
   "source": [
    "print('MSE:', metrics.mean_squared_error(y_pred, test_Y))\n",
    "print('RMSE:', metrics.mean_squared_error(y_pred, test_Y)**0.5)\n",
    "print('MAE:', metrics.mean_absolute_error(y_pred, test_Y))"
   ]
  },
  {
   "cell_type": "code",
   "execution_count": null,
   "id": "cc0423ea-6c15-4327-b5df-8de552453e64",
   "metadata": {},
   "outputs": [],
   "source": []
  }
 ],
 "metadata": {
  "kernelspec": {
   "display_name": "Python 3 (ipykernel)",
   "language": "python",
   "name": "python3"
  },
  "language_info": {
   "codemirror_mode": {
    "name": "ipython",
    "version": 3
   },
   "file_extension": ".py",
   "mimetype": "text/x-python",
   "name": "python",
   "nbconvert_exporter": "python",
   "pygments_lexer": "ipython3",
   "version": "3.12.4"
  }
 },
 "nbformat": 4,
 "nbformat_minor": 5
}
