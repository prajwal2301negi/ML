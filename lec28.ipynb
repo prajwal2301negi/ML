{
 "cells": [
  {
   "cell_type": "markdown",
   "id": "fe76edb8-3f44-4da9-85d4-fb5d56126670",
   "metadata": {},
   "source": [
    "# Boston Housing Problem"
   ]
  },
  {
   "cell_type": "markdown",
   "id": "b367f8fc-a7ec-4a36-aa33-84abd75882a0",
   "metadata": {},
   "source": [
    "*using linear Regression*"
   ]
  },
  {
   "cell_type": "code",
   "execution_count": 61,
   "id": "76813340-d352-49c6-84d4-9f0ab2f15acb",
   "metadata": {},
   "outputs": [],
   "source": [
    "import numpy as np \n",
    "import pandas as pd\n",
    "import matplotlib.pyplot as plt\n",
    "# from sklearn.datasets import load_boston         # Loading Boston Dataset from sklearn\n",
    "# from keras.datasets import boston_housing        # Loading Boston Dataset from Keras"
   ]
  },
  {
   "cell_type": "code",
   "execution_count": 62,
   "id": "56993452-b9b2-4bff-ac62-b72411b4402d",
   "metadata": {},
   "outputs": [
    {
     "name": "stderr",
     "output_type": "stream",
     "text": [
      "<>:2: SyntaxWarning: invalid escape sequence '\\s'\n",
      "<>:2: SyntaxWarning: invalid escape sequence '\\s'\n",
      "C:\\Users\\prajwal\\AppData\\Local\\Temp\\ipykernel_11708\\1943589677.py:2: SyntaxWarning: invalid escape sequence '\\s'\n",
      "  raw_df = pd.read_csv(data_url, sep = \"\\s+\", skiprows = 22, header=None)\n"
     ]
    }
   ],
   "source": [
    "data_url = 'http://lib.stat.cmu.edu/datasets/boston'\n",
    "raw_df = pd.read_csv(data_url, sep = \"\\s+\", skiprows = 22, header=None)\n",
    "data = np.hstack([raw_df.values[::2, :], raw_df.values[1::2, :2]])\n",
    "target = raw_df.values[1::2, 2]"
   ]
  },
  {
   "cell_type": "code",
   "execution_count": 63,
   "id": "ffa5e854-3bb6-4504-9ae9-36f41093ec34",
   "metadata": {},
   "outputs": [
    {
     "name": "stdout",
     "output_type": "stream",
     "text": [
      "             0      1      2    3      4      5     6       7    8      9   \\\n",
      "0       0.00632  18.00   2.31  0.0  0.538  6.575  65.2  4.0900  1.0  296.0   \n",
      "1     396.90000   4.98  24.00  NaN    NaN    NaN   NaN     NaN  NaN    NaN   \n",
      "2       0.02731   0.00   7.07  0.0  0.469  6.421  78.9  4.9671  2.0  242.0   \n",
      "3     396.90000   9.14  21.60  NaN    NaN    NaN   NaN     NaN  NaN    NaN   \n",
      "4       0.02729   0.00   7.07  0.0  0.469  7.185  61.1  4.9671  2.0  242.0   \n",
      "...         ...    ...    ...  ...    ...    ...   ...     ...  ...    ...   \n",
      "1007  396.90000   5.64  23.90  NaN    NaN    NaN   NaN     NaN  NaN    NaN   \n",
      "1008    0.10959   0.00  11.93  0.0  0.573  6.794  89.3  2.3889  1.0  273.0   \n",
      "1009  393.45000   6.48  22.00  NaN    NaN    NaN   NaN     NaN  NaN    NaN   \n",
      "1010    0.04741   0.00  11.93  0.0  0.573  6.030  80.8  2.5050  1.0  273.0   \n",
      "1011  396.90000   7.88  11.90  NaN    NaN    NaN   NaN     NaN  NaN    NaN   \n",
      "\n",
      "        10  \n",
      "0     15.3  \n",
      "1      NaN  \n",
      "2     17.8  \n",
      "3      NaN  \n",
      "4     17.8  \n",
      "...    ...  \n",
      "1007   NaN  \n",
      "1008  21.0  \n",
      "1009   NaN  \n",
      "1010  21.0  \n",
      "1011   NaN  \n",
      "\n",
      "[1012 rows x 11 columns]\n"
     ]
    },
    {
     "data": {
      "text/plain": [
       "((506, 13), (506,))"
      ]
     },
     "execution_count": 63,
     "metadata": {},
     "output_type": "execute_result"
    }
   ],
   "source": [
    "print(raw_df)\n",
    "data.shape, target.shape"
   ]
  },
  {
   "cell_type": "code",
   "execution_count": 64,
   "id": "4f9e60c0-4df9-4305-b518-ec67d8ec3ee4",
   "metadata": {},
   "outputs": [],
   "source": [
    "split = 0.8\n",
    "train_X = data[:int(split * data.shape[0]), :]\n",
    "test_X = data[int(split * data.shape[0]) :, :]\n",
    "train_Y = data[:int(split * data.shape[0])]\n",
    "test_Y = target[int(split * data.shape[0]):]"
   ]
  },
  {
   "cell_type": "code",
   "execution_count": 65,
   "id": "e5af0b65-599d-42f8-a27b-5b1a6d95ae84",
   "metadata": {},
   "outputs": [
    {
     "name": "stdout",
     "output_type": "stream",
     "text": [
      "(404, 13) (102, 13) (404, 13) (102,)\n"
     ]
    }
   ],
   "source": [
    "print(train_X.shape, test_X.shape, train_Y.shape, test_Y.shape)"
   ]
  },
  {
   "cell_type": "code",
   "execution_count": 66,
   "id": "7b63356d-2c0a-4edf-88b8-2e30eb28926c",
   "metadata": {},
   "outputs": [],
   "source": [
    "# normalising the data"
   ]
  },
  {
   "cell_type": "code",
   "execution_count": 67,
   "id": "cbf0933c-f9d8-42c2-8d99-fed6051e79e9",
   "metadata": {},
   "outputs": [],
   "source": [
    "u = np.mean(train_X, axis = 0)\n",
    "std = np.std(train_X, axis = 0)"
   ]
  },
  {
   "cell_type": "code",
   "execution_count": 68,
   "id": "376c2698-4087-475a-9295-ee315453f0fb",
   "metadata": {},
   "outputs": [],
   "source": [
    "train_X = (train_X - u)/std"
   ]
  },
  {
   "cell_type": "code",
   "execution_count": 69,
   "id": "11b429b3-9873-438c-bf3a-eeba65bd9a27",
   "metadata": {},
   "outputs": [],
   "source": [
    "u = np.mean(test_X, axis = 0)\n",
    "std = np.std(test_X, axis = 0)"
   ]
  },
  {
   "cell_type": "code",
   "execution_count": 70,
   "id": "bdfda185-38b1-452d-a63b-6d220c861d0c",
   "metadata": {},
   "outputs": [],
   "source": [
    "# test_X = (test_X - u)/std  "
   ]
  },
  {
   "cell_type": "code",
   "execution_count": 71,
   "id": "17ae9e29-b28a-4b7c-9443-aa81c6b3cb16",
   "metadata": {},
   "outputs": [],
   "source": [
    "ones = np.ones((train_X.shape[0],1))\n",
    "train_X = np.hstack((ones, train_X))"
   ]
  },
  {
   "cell_type": "code",
   "execution_count": 72,
   "id": "83f86bb8-c8ac-444c-ae09-5bc5fc05055f",
   "metadata": {},
   "outputs": [],
   "source": [
    "def hypothesis (X, weight):\n",
    "    y_pred = 0\n",
    "    for i in range(X.shape[0]):\n",
    "        y_pred += weight[i] * X[i]\n",
    "    return y_pred "
   ]
  },
  {
   "cell_type": "code",
   "execution_count": 73,
   "id": "a9800c60-94e0-43b9-ba22-8265c885a987",
   "metadata": {},
   "outputs": [],
   "source": [
    "def loss_func(X, weights, Y):\n",
    "    loss = 0\n",
    "\n",
    "    for i in range(X.shape[0]):\n",
    "        Y_pred = hypothesis(X[i], weights)\n",
    "        loss+= (Y_pred - Y[i])**2\n",
    "\n",
    "    return loss/X.shape[0]"
   ]
  },
  {
   "cell_type": "code",
   "execution_count": 74,
   "id": "4e52a725-2cbb-46a2-be9d-176851ee5d51",
   "metadata": {},
   "outputs": [],
   "source": [
    "def gradient(X, Y, weight):\n",
    "    grad = np.zeros((X.shape[1], ))\n",
    "\n",
    "    for j in range(X.shape[1]):\n",
    "        for i in range(X.shape[0]):\n",
    "            y_pred = hypothesis(X[i], weight)\n",
    "            grad[j] += (y_pred - Y[i]) * X[i][j]\n",
    "\n",
    "    return grad/X.shape[0]"
   ]
  },
  {
   "cell_type": "code",
   "execution_count": 78,
   "id": "9e128859-d337-4a7c-b6b4-fd7698c018df",
   "metadata": {},
   "outputs": [],
   "source": [
    "def gradient_descent(X,Y):\n",
    "    weights = np.zeros((X.shape[1], ))\n",
    "    lr_rate = 0.03\n",
    "    loss_epoch=[]\n",
    "\n",
    "    epochs = 1000\n",
    "\n",
    "    for i in range(epochs):\n",
    "        grad = gradient(X, Y, weights)\n",
    "        loss_epoch.append(loss_func(X, weights, Y))\n",
    "\n",
    "        for j in range(X.shape[1]):\n",
    "            weights[j] = weights[j] - lr_rate *  grad[j]\n",
    "\n",
    "    return weights, loss_epoch"
   ]
  },
  {
   "cell_type": "code",
   "execution_count": 80,
   "id": "83e8829c-dc00-4c95-a6e6-10bd93f92215",
   "metadata": {},
   "outputs": [
    {
     "ename": "ValueError",
     "evalue": "setting an array element with a sequence.",
     "output_type": "error",
     "traceback": [
      "\u001b[1;31m---------------------------------------------------------------------------\u001b[0m",
      "\u001b[1;31mTypeError\u001b[0m                                 Traceback (most recent call last)",
      "\u001b[1;31mTypeError\u001b[0m: only length-1 arrays can be converted to Python scalars",
      "\nThe above exception was the direct cause of the following exception:\n",
      "\u001b[1;31mValueError\u001b[0m                                Traceback (most recent call last)",
      "Cell \u001b[1;32mIn[80], line 1\u001b[0m\n\u001b[1;32m----> 1\u001b[0m weights, loss_epoch \u001b[38;5;241m=\u001b[39m \u001b[43mgradient_descent\u001b[49m\u001b[43m(\u001b[49m\u001b[43mtrain_X\u001b[49m\u001b[43m,\u001b[49m\u001b[43m \u001b[49m\u001b[43mtrain_Y\u001b[49m\u001b[43m)\u001b[49m\n",
      "Cell \u001b[1;32mIn[78], line 9\u001b[0m, in \u001b[0;36mgradient_descent\u001b[1;34m(X, Y)\u001b[0m\n\u001b[0;32m      6\u001b[0m epochs \u001b[38;5;241m=\u001b[39m \u001b[38;5;241m1000\u001b[39m\n\u001b[0;32m      8\u001b[0m \u001b[38;5;28;01mfor\u001b[39;00m i \u001b[38;5;129;01min\u001b[39;00m \u001b[38;5;28mrange\u001b[39m(epochs):\n\u001b[1;32m----> 9\u001b[0m     grad \u001b[38;5;241m=\u001b[39m \u001b[43mgradient\u001b[49m\u001b[43m(\u001b[49m\u001b[43mX\u001b[49m\u001b[43m,\u001b[49m\u001b[43m \u001b[49m\u001b[43mY\u001b[49m\u001b[43m,\u001b[49m\u001b[43m \u001b[49m\u001b[43mweights\u001b[49m\u001b[43m)\u001b[49m\n\u001b[0;32m     10\u001b[0m     loss_epoch\u001b[38;5;241m.\u001b[39mappend(loss_func(X, weights, Y))\n\u001b[0;32m     12\u001b[0m     \u001b[38;5;28;01mfor\u001b[39;00m j \u001b[38;5;129;01min\u001b[39;00m \u001b[38;5;28mrange\u001b[39m(X\u001b[38;5;241m.\u001b[39mshape[\u001b[38;5;241m1\u001b[39m]):\n",
      "Cell \u001b[1;32mIn[74], line 7\u001b[0m, in \u001b[0;36mgradient\u001b[1;34m(X, Y, weight)\u001b[0m\n\u001b[0;32m      5\u001b[0m     \u001b[38;5;28;01mfor\u001b[39;00m i \u001b[38;5;129;01min\u001b[39;00m \u001b[38;5;28mrange\u001b[39m(X\u001b[38;5;241m.\u001b[39mshape[\u001b[38;5;241m0\u001b[39m]):\n\u001b[0;32m      6\u001b[0m         y_pred \u001b[38;5;241m=\u001b[39m hypothesis(X[i], weight)\n\u001b[1;32m----> 7\u001b[0m         \u001b[43mgrad\u001b[49m\u001b[43m[\u001b[49m\u001b[43mj\u001b[49m\u001b[43m]\u001b[49m \u001b[38;5;241m+\u001b[39m\u001b[38;5;241m=\u001b[39m (y_pred \u001b[38;5;241m-\u001b[39m Y[i]) \u001b[38;5;241m*\u001b[39m X[i][j]\n\u001b[0;32m      9\u001b[0m \u001b[38;5;28;01mreturn\u001b[39;00m grad\u001b[38;5;241m/\u001b[39mX\u001b[38;5;241m.\u001b[39mshape[\u001b[38;5;241m0\u001b[39m]\n",
      "\u001b[1;31mValueError\u001b[0m: setting an array element with a sequence."
     ]
    }
   ],
   "source": [
    "weights, loss_epoch = gradient_descent(train_X, train_Y)"
   ]
  },
  {
   "cell_type": "markdown",
   "id": "57f5984b-362d-44d4-9551-81e7ebd15318",
   "metadata": {},
   "source": [
    "# Optimisation"
   ]
  },
  {
   "cell_type": "code",
   "execution_count": 84,
   "id": "077dac5d-8e87-46a7-9e42-aeb5ab90e919",
   "metadata": {},
   "outputs": [],
   "source": [
    "def hypothesis(X, weight):\n",
    "    return np.dot(X, weight)\n",
    "# h(x) = w1x1 + w2x2 +....\n",
    "# h(x) = dotProduct(w and x)"
   ]
  },
  {
   "cell_type": "code",
   "execution_count": 85,
   "id": "a13e09e4-aeab-47f9-a54f-c7d3f85fcf11",
   "metadata": {},
   "outputs": [],
   "source": [
    "def loss_func(X, weights, Y):\n",
    "    loss = 0\n",
    "    Y_pred = hypothesis(X, weights) # Matrix multiplication will take place-> (mxn) X (nx1)\n",
    "    loss = np.sum((Y_pred - Y)**2)\n",
    "    return loss/X.shape[0]"
   ]
  },
  {
   "cell_type": "code",
   "execution_count": 91,
   "id": "b1b15048-08aa-4021-9a94-dac03b6dfa0d",
   "metadata": {},
   "outputs": [],
   "source": [
    "def gradient(X, Y, weight):\n",
    "    y_pred = hypothesis(X, weight)\n",
    "    grad = np.dot(X.T, (y_pred - Y)) \n",
    "# T -> transpose\n",
    "    return grad/X.shape[0]"
   ]
  },
  {
   "cell_type": "code",
   "execution_count": 94,
   "id": "e1a65b27-8980-43ae-a6f4-5e6472f436e8",
   "metadata": {},
   "outputs": [],
   "source": [
    "def gradient_descent(X,Y):\n",
    "    weights = np.zeros((X.shape[1], ))\n",
    "    lr_rate = 0.03\n",
    "    loss_epoch=[]\n",
    "\n",
    "    epochs = 1000\n",
    "\n",
    "    for i in range(epochs):\n",
    "        grad = gradient(X, Y, weights)\n",
    "        loss_epoch.append(loss_func(X, weights, Y))\n",
    "\n",
    "        weights = weights - lr_rate *  grad\n",
    "\n",
    "    return weights, loss_epoch"
   ]
  },
  {
   "cell_type": "code",
   "execution_count": 95,
   "id": "83e30128-19ba-46b5-b955-fad82332e43a",
   "metadata": {},
   "outputs": [
    {
     "ename": "ValueError",
     "evalue": "operands could not be broadcast together with shapes (404,) (404,13) ",
     "output_type": "error",
     "traceback": [
      "\u001b[1;31m---------------------------------------------------------------------------\u001b[0m",
      "\u001b[1;31mValueError\u001b[0m                                Traceback (most recent call last)",
      "Cell \u001b[1;32mIn[95], line 1\u001b[0m\n\u001b[1;32m----> 1\u001b[0m weights, loss_epoch \u001b[38;5;241m=\u001b[39m \u001b[43mgradient_descent\u001b[49m\u001b[43m(\u001b[49m\u001b[43mtrain_X\u001b[49m\u001b[43m,\u001b[49m\u001b[43m \u001b[49m\u001b[43mtrain_Y\u001b[49m\u001b[43m)\u001b[49m\n",
      "Cell \u001b[1;32mIn[94], line 9\u001b[0m, in \u001b[0;36mgradient_descent\u001b[1;34m(X, Y)\u001b[0m\n\u001b[0;32m      6\u001b[0m epochs \u001b[38;5;241m=\u001b[39m \u001b[38;5;241m1000\u001b[39m\n\u001b[0;32m      8\u001b[0m \u001b[38;5;28;01mfor\u001b[39;00m i \u001b[38;5;129;01min\u001b[39;00m \u001b[38;5;28mrange\u001b[39m(epochs):\n\u001b[1;32m----> 9\u001b[0m     grad \u001b[38;5;241m=\u001b[39m \u001b[43mgradient\u001b[49m\u001b[43m(\u001b[49m\u001b[43mX\u001b[49m\u001b[43m,\u001b[49m\u001b[43m \u001b[49m\u001b[43mY\u001b[49m\u001b[43m,\u001b[49m\u001b[43m \u001b[49m\u001b[43mweights\u001b[49m\u001b[43m)\u001b[49m\n\u001b[0;32m     10\u001b[0m     loss_epoch\u001b[38;5;241m.\u001b[39mappend(loss_func(X, weights, Y))\n\u001b[0;32m     12\u001b[0m     weights \u001b[38;5;241m=\u001b[39m weights \u001b[38;5;241m-\u001b[39m lr_rate \u001b[38;5;241m*\u001b[39m  grad\n",
      "Cell \u001b[1;32mIn[91], line 3\u001b[0m, in \u001b[0;36mgradient\u001b[1;34m(X, Y, weight)\u001b[0m\n\u001b[0;32m      1\u001b[0m \u001b[38;5;28;01mdef\u001b[39;00m \u001b[38;5;21mgradient\u001b[39m(X, Y, weight):\n\u001b[0;32m      2\u001b[0m     y_pred \u001b[38;5;241m=\u001b[39m hypothesis(X, weight)\n\u001b[1;32m----> 3\u001b[0m     grad \u001b[38;5;241m=\u001b[39m np\u001b[38;5;241m.\u001b[39mdot(X\u001b[38;5;241m.\u001b[39mT, (\u001b[43my_pred\u001b[49m\u001b[43m \u001b[49m\u001b[38;5;241;43m-\u001b[39;49m\u001b[43m \u001b[49m\u001b[43mY\u001b[49m)) \n\u001b[0;32m      4\u001b[0m \u001b[38;5;66;03m# T -> transpose\u001b[39;00m\n\u001b[0;32m      5\u001b[0m     \u001b[38;5;28;01mreturn\u001b[39;00m grad\u001b[38;5;241m/\u001b[39mX\u001b[38;5;241m.\u001b[39mshape[\u001b[38;5;241m0\u001b[39m]\n",
      "\u001b[1;31mValueError\u001b[0m: operands could not be broadcast together with shapes (404,) (404,13) "
     ]
    }
   ],
   "source": [
    "weights, loss_epoch = gradient_descent(train_X, train_Y)"
   ]
  },
  {
   "cell_type": "code",
   "execution_count": 97,
   "id": "54934caf-691c-4d82-93b7-cbf3d174495d",
   "metadata": {},
   "outputs": [
    {
     "ename": "ValueError",
     "evalue": "operands could not be broadcast together with shapes (404,) (404,13) ",
     "output_type": "error",
     "traceback": [
      "\u001b[1;31m---------------------------------------------------------------------------\u001b[0m",
      "\u001b[1;31mValueError\u001b[0m                                Traceback (most recent call last)",
      "Cell \u001b[1;32mIn[97], line 3\u001b[0m\n\u001b[0;32m      1\u001b[0m \u001b[38;5;28;01mimport\u001b[39;00m \u001b[38;5;21;01mtime\u001b[39;00m\n\u001b[0;32m      2\u001b[0m start \u001b[38;5;241m=\u001b[39m time\u001b[38;5;241m.\u001b[39mtime()\n\u001b[1;32m----> 3\u001b[0m weights, loss_epoch \u001b[38;5;241m=\u001b[39m \u001b[43mgradient_descent\u001b[49m\u001b[43m(\u001b[49m\u001b[43mtrain_X\u001b[49m\u001b[43m,\u001b[49m\u001b[43m \u001b[49m\u001b[43mtrain_Y\u001b[49m\u001b[43m)\u001b[49m\n\u001b[0;32m      4\u001b[0m \u001b[38;5;28mprint\u001b[39m(time\u001b[38;5;241m.\u001b[39mtime()\u001b[38;5;241m-\u001b[39mstart)\n",
      "Cell \u001b[1;32mIn[94], line 9\u001b[0m, in \u001b[0;36mgradient_descent\u001b[1;34m(X, Y)\u001b[0m\n\u001b[0;32m      6\u001b[0m epochs \u001b[38;5;241m=\u001b[39m \u001b[38;5;241m1000\u001b[39m\n\u001b[0;32m      8\u001b[0m \u001b[38;5;28;01mfor\u001b[39;00m i \u001b[38;5;129;01min\u001b[39;00m \u001b[38;5;28mrange\u001b[39m(epochs):\n\u001b[1;32m----> 9\u001b[0m     grad \u001b[38;5;241m=\u001b[39m \u001b[43mgradient\u001b[49m\u001b[43m(\u001b[49m\u001b[43mX\u001b[49m\u001b[43m,\u001b[49m\u001b[43m \u001b[49m\u001b[43mY\u001b[49m\u001b[43m,\u001b[49m\u001b[43m \u001b[49m\u001b[43mweights\u001b[49m\u001b[43m)\u001b[49m\n\u001b[0;32m     10\u001b[0m     loss_epoch\u001b[38;5;241m.\u001b[39mappend(loss_func(X, weights, Y))\n\u001b[0;32m     12\u001b[0m     weights \u001b[38;5;241m=\u001b[39m weights \u001b[38;5;241m-\u001b[39m lr_rate \u001b[38;5;241m*\u001b[39m  grad\n",
      "Cell \u001b[1;32mIn[91], line 3\u001b[0m, in \u001b[0;36mgradient\u001b[1;34m(X, Y, weight)\u001b[0m\n\u001b[0;32m      1\u001b[0m \u001b[38;5;28;01mdef\u001b[39;00m \u001b[38;5;21mgradient\u001b[39m(X, Y, weight):\n\u001b[0;32m      2\u001b[0m     y_pred \u001b[38;5;241m=\u001b[39m hypothesis(X, weight)\n\u001b[1;32m----> 3\u001b[0m     grad \u001b[38;5;241m=\u001b[39m np\u001b[38;5;241m.\u001b[39mdot(X\u001b[38;5;241m.\u001b[39mT, (\u001b[43my_pred\u001b[49m\u001b[43m \u001b[49m\u001b[38;5;241;43m-\u001b[39;49m\u001b[43m \u001b[49m\u001b[43mY\u001b[49m)) \n\u001b[0;32m      4\u001b[0m \u001b[38;5;66;03m# T -> transpose\u001b[39;00m\n\u001b[0;32m      5\u001b[0m     \u001b[38;5;28;01mreturn\u001b[39;00m grad\u001b[38;5;241m/\u001b[39mX\u001b[38;5;241m.\u001b[39mshape[\u001b[38;5;241m0\u001b[39m]\n",
      "\u001b[1;31mValueError\u001b[0m: operands could not be broadcast together with shapes (404,) (404,13) "
     ]
    }
   ],
   "source": [
    "import time\n",
    "start = time.time()\n",
    "weights, loss_epoch = gradient_descent(train_X, train_Y)\n",
    "print(time.time()-start)"
   ]
  },
  {
   "cell_type": "code",
   "execution_count": 99,
   "id": "cab56474-b86e-40d2-85c6-df72561d04cb",
   "metadata": {},
   "outputs": [
    {
     "ename": "NameError",
     "evalue": "name 'loss_epoch' is not defined",
     "output_type": "error",
     "traceback": [
      "\u001b[1;31m---------------------------------------------------------------------------\u001b[0m",
      "\u001b[1;31mNameError\u001b[0m                                 Traceback (most recent call last)",
      "Cell \u001b[1;32mIn[99], line 1\u001b[0m\n\u001b[1;32m----> 1\u001b[0m \u001b[43mloss_epoch\u001b[49m\n",
      "\u001b[1;31mNameError\u001b[0m: name 'loss_epoch' is not defined"
     ]
    }
   ],
   "source": [
    "loss_epoch"
   ]
  },
  {
   "cell_type": "code",
   "execution_count": null,
   "id": "d4a8aeed-4111-4f90-b3f3-a46b407240d0",
   "metadata": {},
   "outputs": [],
   "source": []
  }
 ],
 "metadata": {
  "kernelspec": {
   "display_name": "Python 3 (ipykernel)",
   "language": "python",
   "name": "python3"
  },
  "language_info": {
   "codemirror_mode": {
    "name": "ipython",
    "version": 3
   },
   "file_extension": ".py",
   "mimetype": "text/x-python",
   "name": "python",
   "nbconvert_exporter": "python",
   "pygments_lexer": "ipython3",
   "version": "3.12.4"
  }
 },
 "nbformat": 4,
 "nbformat_minor": 5
}
